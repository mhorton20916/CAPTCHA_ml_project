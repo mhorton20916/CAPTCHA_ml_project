{
 "cells": [
  {
   "cell_type": "code",
   "execution_count": 1,
   "metadata": {},
   "outputs": [
    {
     "name": "stderr",
     "output_type": "stream",
     "text": [
      "Using TensorFlow backend.\n"
     ]
    }
   ],
   "source": [
    "import os.path\n",
    "from imutils import paths, resize\n",
    "import cv2\n",
    "import numpy as np\n",
    "from sklearn.model_selection import train_test_split\n",
    "from sklearn.preprocessing import LabelBinarizer\n",
    "from keras.models import Sequential\n",
    "from keras.layers.convolutional import Conv2D, MaxPooling2D\n",
    "from keras.layers.core import Flatten, Dense\n",
    "\n",
    "from custom import get_letters_list2, normalize_image_size\n",
    "\n",
    "import pickle\n",
    "\n",
    "import pandas as pd\n",
    "from random import choices\n",
    "import matplotlib.pyplot as plt"
   ]
  },
  {
   "cell_type": "code",
   "execution_count": 2,
   "metadata": {},
   "outputs": [
    {
     "name": "stdout",
     "output_type": "stream",
     "text": [
      "Added image #2000\n",
      "Added image #4000\n",
      "Added image #6000\n",
      "Added image #8000\n",
      "Added image #10000\n",
      "Added image #12000\n",
      "Added image #14000\n",
      "Added image #16000\n",
      "Added image #18000\n",
      "Added image #20000\n",
      "Added image #22000\n",
      "Added image #24000\n",
      "Added image #26000\n",
      "Added image #28000\n",
      "Added image #30000\n",
      "Added image #32000\n",
      "Added image #34000\n",
      "Added image #36000\n",
      "Added image #38000\n",
      "Added image #40000\n",
      "Added image #42000\n",
      "Added image #44000\n",
      "Added image #46000\n",
      "Added image #48000\n",
      "Added image #50000\n",
      "Added image #52000\n",
      "Added image #54000\n",
      "Added image #56000\n",
      "Added image #58000\n",
      "Added image #60000\n",
      "Added image #62000\n",
      "Added image #64000\n",
      "Added image #66000\n",
      "Added image #68000\n",
      "Added image #70000\n",
      "Added image #72000\n",
      "Added image #74000\n",
      "Added image #76000\n",
      "Added image #78000\n",
      "Added image #80000\n",
      "Added image #82000\n",
      "Added image #84000\n",
      "Added image #86000\n",
      "Added image #88000\n",
      "Added image #90000\n",
      "Added image #92000\n",
      "Added image #94000\n"
     ]
    }
   ],
   "source": [
    "data = []\n",
    "labels = []\n",
    "count = 0\n",
    "for letter_path in paths.list_images('grainy_samples/letters'):\n",
    "    image = cv2.imread(letter_path,0)\n",
    "    \n",
    "    # Resize image\n",
    "    image = normalize_image_size(image,20,20)\n",
    "\n",
    "    \n",
    "    image = np.expand_dims(image, axis = 2)\n",
    "    data.append(image)\n",
    "    labels.append(letter_path.split(os.path.sep)[-2])\n",
    "    count+=1\n",
    "    if count%2000==0:\n",
    "        print('Added image #%d'%count)\n"
   ]
  },
  {
   "cell_type": "code",
   "execution_count": 3,
   "metadata": {
    "collapsed": true
   },
   "outputs": [],
   "source": [
    "data = np.array(data,dtype='float')/255.0\n",
    "labels = np.array(labels)"
   ]
  },
  {
   "cell_type": "code",
   "execution_count": 4,
   "metadata": {
    "collapsed": true
   },
   "outputs": [],
   "source": [
    "X_train, X_test, y_train, y_test = train_test_split(data,labels, test_size=0.25)"
   ]
  },
  {
   "cell_type": "code",
   "execution_count": 5,
   "metadata": {
    "collapsed": true
   },
   "outputs": [],
   "source": [
    "lb = LabelBinarizer().fit(y_train)\n",
    "y_train = lb.transform(y_train)\n",
    "y_test = lb.transform(y_test)"
   ]
  },
  {
   "cell_type": "code",
   "execution_count": 7,
   "metadata": {},
   "outputs": [
    {
     "name": "stdout",
     "output_type": "stream",
     "text": [
      "Train on 71238 samples, validate on 23746 samples\n",
      "Epoch 1/2\n",
      "71238/71238 [==============================] - 102s 1ms/step - loss: 0.1771 - acc: 0.9529 - val_loss: 0.0593 - val_acc: 0.9846\n",
      "Epoch 2/2\n",
      "71238/71238 [==============================] - 115s 2ms/step - loss: 0.0481 - acc: 0.9870 - val_loss: 0.0553 - val_acc: 0.9864\n"
     ]
    },
    {
     "data": {
      "text/plain": [
       "<keras.callbacks.History at 0x1bda8327be0>"
      ]
     },
     "execution_count": 7,
     "metadata": {},
     "output_type": "execute_result"
    }
   ],
   "source": [
    "model = Sequential()\n",
    "model.add(Conv2D(10, (5, 5), padding=\"same\", input_shape=(20, 20, 1), activation=\"relu\"))\n",
    "model.add(MaxPooling2D(pool_size=(2, 2), strides=(2, 2)))\n",
    "model.add(Conv2D(40, (5, 5), padding=\"same\", activation=\"relu\"))\n",
    "model.add(MaxPooling2D(pool_size=(2, 2), strides=(2, 2)))\n",
    "model.add(Flatten())\n",
    "model.add(Dense(512, activation=\"relu\"))\n",
    "model.add(Dense(19, activation=\"softmax\"))\n",
    "model.compile(loss=\"categorical_crossentropy\", optimizer=\"adam\", metrics=[\"accuracy\"])\n",
    "model.fit(X_train, y_train, validation_data=(X_test, y_test), batch_size=19, epochs=2, verbose=1)"
   ]
  },
  {
   "cell_type": "code",
   "execution_count": 8,
   "metadata": {
    "collapsed": true
   },
   "outputs": [],
   "source": [
    "model.save('models/ideal/ideal.h5')\n",
    "\n",
    "with open('models/ideal/model_label_map.dat','wb') as f:\n",
    "    pickle.dump(lb,f)"
   ]
  },
  {
   "cell_type": "code",
   "execution_count": 11,
   "metadata": {},
   "outputs": [
    {
     "name": "stdout",
     "output_type": "stream",
     "text": [
      "Completed run #1\n",
      "Completed run #2\n",
      "Completed run #3\n",
      "Completed run #4\n",
      "Completed run #5\n",
      "Completed run #6\n",
      "Completed run #7\n",
      "Completed run #8\n",
      "Completed run #9\n",
      "Completed run #10\n",
      "Completed run #11\n",
      "Completed run #12\n",
      "Completed run #13\n",
      "Completed run #14\n",
      "Completed run #15\n",
      "Completed run #16\n",
      "Completed run #17\n",
      "Completed run #18\n",
      "Completed run #19\n",
      "Completed run #20\n",
      "Completed run #21\n",
      "Completed run #22\n",
      "Completed run #23\n",
      "Completed run #24\n",
      "Completed run #25\n",
      "Completed run #26\n",
      "Completed run #27\n",
      "Completed run #28\n",
      "Completed run #29\n",
      "Completed run #30\n",
      "Completed run #31\n",
      "Completed run #32\n",
      "Completed run #33\n",
      "Completed run #34\n",
      "Completed run #35\n",
      "Completed run #36\n",
      "Completed run #37\n",
      "Completed run #38\n",
      "Completed run #39\n",
      "Completed run #40\n",
      "Completed run #41\n",
      "Completed run #42\n",
      "Completed run #43\n",
      "Completed run #44\n",
      "Completed run #45\n",
      "Completed run #46\n",
      "Completed run #47\n",
      "Completed run #48\n",
      "Completed run #49\n",
      "Completed run #50\n",
      "Completed run #51\n",
      "Completed run #52\n",
      "Completed run #53\n",
      "Completed run #54\n",
      "Completed run #55\n",
      "Completed run #56\n",
      "Completed run #57\n",
      "Completed run #58\n",
      "Completed run #59\n",
      "Completed run #60\n",
      "Completed run #61\n",
      "Completed run #62\n",
      "Completed run #63\n",
      "Completed run #64\n",
      "Completed run #65\n",
      "Completed run #66\n",
      "Completed run #67\n",
      "Completed run #68\n",
      "Completed run #69\n",
      "Completed run #70\n",
      "Completed run #71\n",
      "Completed run #72\n",
      "Completed run #73\n",
      "Completed run #74\n",
      "Completed run #75\n",
      "Completed run #76\n",
      "Completed run #77\n",
      "Completed run #78\n",
      "Completed run #79\n",
      "Completed run #80\n",
      "Completed run #81\n",
      "Completed run #82\n",
      "Completed run #83\n",
      "Completed run #84\n",
      "Completed run #85\n",
      "Completed run #86\n",
      "Completed run #87\n",
      "Completed run #88\n",
      "Completed run #89\n",
      "Completed run #90\n",
      "Completed run #91\n",
      "Completed run #92\n",
      "Completed run #93\n",
      "Completed run #94\n",
      "Completed run #95\n",
      "Completed run #96\n",
      "Completed run #97\n",
      "Completed run #98\n",
      "Completed run #99\n",
      "Completed run #100\n"
     ]
    }
   ],
   "source": [
    "test_list_full = os.listdir('grainy_samples/samples')\n",
    "errors_matrix = []\n",
    "\n",
    "\n",
    "for i in range(100):\n",
    "    test_list = choices(test_list_full,k=10)\n",
    "    passwords_list = []\n",
    "    for test_path in test_list:\n",
    "        letters_list = get_letters_list2('grainy_samples/samples/%s'%test_path)\n",
    "        if(type(letters_list[0])==str):\n",
    "            break\n",
    "        attempted_password = ''\n",
    "        for letter_image in letters_list:\n",
    "            letter_image = normalize_image_size(letter_image,20,20)\n",
    "    #         cv2.imshow('letter',letter_image)\n",
    "    #         cv2.waitKey(0)\n",
    "    #         cv2.destroyAllWindows()\n",
    "            letter_image = np.expand_dims(letter_image,axis=2)\n",
    "            letter_image = np.expand_dims(letter_image,axis=0)\n",
    "            prediction = model.predict(letter_image)\n",
    "            attempted_password += lb.inverse_transform(prediction)[0]\n",
    "        passwords_list.append(attempted_password)\n",
    "    filtered_answers = [a.split('.')[0] for a in test_list]\n",
    "#     print(len(passwords_list))\n",
    "    if(len(passwords_list)==len(filtered_answers)):\n",
    "        for k in range(10):\n",
    "            errors = sum([passwords_list[k][a]!=filtered_answers[k][a] for a in range(6)])\n",
    "            errors_matrix.append(errors)\n",
    "    print('Completed run #%d'%(i+1))"
   ]
  },
  {
   "cell_type": "code",
   "execution_count": 14,
   "metadata": {},
   "outputs": [],
   "source": [
    "total_errors = sum(errors_matrix)"
   ]
  },
  {
   "cell_type": "code",
   "execution_count": 15,
   "metadata": {
    "collapsed": true
   },
   "outputs": [],
   "source": [
    "total_letters = 6000"
   ]
  },
  {
   "cell_type": "code",
   "execution_count": 17,
   "metadata": {},
   "outputs": [
    {
     "data": {
      "text/plain": [
       "2.833333333333333"
      ]
     },
     "execution_count": 17,
     "metadata": {},
     "output_type": "execute_result"
    }
   ],
   "source": [
    "perc_error = total_errors/total_letters*100\n",
    "perc_error"
   ]
  },
  {
   "cell_type": "code",
   "execution_count": 18,
   "metadata": {},
   "outputs": [
    {
     "data": {
      "text/plain": [
       "97.16666666666667"
      ]
     },
     "execution_count": 18,
     "metadata": {},
     "output_type": "execute_result"
    }
   ],
   "source": [
    "perc_accuracy = 100-perc_error\n",
    "perc_accuracy"
   ]
  },
  {
   "cell_type": "code",
   "execution_count": 20,
   "metadata": {},
   "outputs": [
    {
     "data": {
      "text/plain": [
       "84.15963170021513"
      ]
     },
     "execution_count": 20,
     "metadata": {},
     "output_type": "execute_result"
    }
   ],
   "source": [
    "hypothetical_success_by_image = (perc_accuracy/100)**6*100\n",
    "hypothetical_success_by_image"
   ]
  },
  {
   "cell_type": "code",
   "execution_count": null,
   "metadata": {
    "collapsed": true
   },
   "outputs": [],
   "source": []
  }
 ],
 "metadata": {
  "kernelspec": {
   "display_name": "Python 3",
   "language": "python",
   "name": "python3"
  },
  "language_info": {
   "codemirror_mode": {
    "name": "ipython",
    "version": 3
   },
   "file_extension": ".py",
   "mimetype": "text/x-python",
   "name": "python",
   "nbconvert_exporter": "python",
   "pygments_lexer": "ipython3",
   "version": "3.6.3"
  }
 },
 "nbformat": 4,
 "nbformat_minor": 2
}

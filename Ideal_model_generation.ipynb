{
 "cells": [
  {
   "cell_type": "code",
   "execution_count": 1,
   "metadata": {},
   "outputs": [
    {
     "name": "stderr",
     "output_type": "stream",
     "text": [
      "Using TensorFlow backend.\n"
     ]
    }
   ],
   "source": [
    "import os.path\n",
    "from imutils import paths, resize\n",
    "import cv2\n",
    "import numpy as np\n",
    "from sklearn.model_selection import train_test_split\n",
    "from sklearn.preprocessing import LabelBinarizer\n",
    "from keras.models import Sequential\n",
    "from keras.layers.convolutional import Conv2D, MaxPooling2D\n",
    "from keras.layers.core import Flatten, Dense\n",
    "\n",
    "from custom import get_letters_list2, normalize_image_size\n",
    "\n",
    "import pickle\n",
    "\n",
    "import pandas as pd\n",
    "from random import choices\n",
    "import matplotlib.pyplot as plt"
   ]
  },
  {
   "cell_type": "code",
   "execution_count": 2,
   "metadata": {},
   "outputs": [
    {
     "name": "stdout",
     "output_type": "stream",
     "text": [
      "Added image #2000\n",
      "Added image #4000\n",
      "Added image #6000\n",
      "Added image #8000\n",
      "Added image #10000\n",
      "Added image #12000\n",
      "Added image #14000\n",
      "Added image #16000\n",
      "Added image #18000\n",
      "Added image #20000\n",
      "Added image #22000\n",
      "Added image #24000\n",
      "Added image #26000\n",
      "Added image #28000\n",
      "Added image #30000\n",
      "Added image #32000\n",
      "Added image #34000\n",
      "Added image #36000\n",
      "Added image #38000\n",
      "Added image #40000\n",
      "Added image #42000\n",
      "Added image #44000\n",
      "Added image #46000\n",
      "Added image #48000\n",
      "Added image #50000\n",
      "Added image #52000\n",
      "Added image #54000\n",
      "Added image #56000\n",
      "Added image #58000\n",
      "Added image #60000\n",
      "Added image #62000\n",
      "Added image #64000\n",
      "Added image #66000\n",
      "Added image #68000\n",
      "Added image #70000\n",
      "Added image #72000\n",
      "Added image #74000\n",
      "Added image #76000\n",
      "Added image #78000\n",
      "Added image #80000\n",
      "Added image #82000\n",
      "Added image #84000\n",
      "Added image #86000\n",
      "Added image #88000\n",
      "Added image #90000\n",
      "Added image #92000\n",
      "Added image #94000\n"
     ]
    }
   ],
   "source": [
    "data = []\n",
    "labels = []\n",
    "count = 0\n",
    "for letter_path in paths.list_images('grainy_samples/letters'):\n",
    "    image = cv2.imread(letter_path,0)\n",
    "    \n",
    "    # Resize image\n",
    "    image = normalize_image_size(image,20,20)\n",
    "\n",
    "    \n",
    "    image = np.expand_dims(image, axis = 2)\n",
    "    data.append(image)\n",
    "    labels.append(letter_path.split(os.path.sep)[-2])\n",
    "    count+=1\n",
    "    if count%2000==0:\n",
    "        print('Added image #%d'%count)\n"
   ]
  },
  {
   "cell_type": "code",
   "execution_count": 3,
   "metadata": {
    "collapsed": true
   },
   "outputs": [],
   "source": [
    "data = np.array(data,dtype='float')/255.0\n",
    "labels = np.array(labels)"
   ]
  },
  {
   "cell_type": "code",
   "execution_count": 4,
   "metadata": {
    "collapsed": true
   },
   "outputs": [],
   "source": [
    "X_train, X_test, y_train, y_test = train_test_split(data,labels, test_size=0.25)"
   ]
  },
  {
   "cell_type": "code",
   "execution_count": 5,
   "metadata": {
    "collapsed": true
   },
   "outputs": [],
   "source": [
    "lb = LabelBinarizer().fit(y_train)\n",
    "y_train = lb.transform(y_train)\n",
    "y_test = lb.transform(y_test)"
   ]
  },
  {
   "cell_type": "code",
   "execution_count": 7,
   "metadata": {},
   "outputs": [
    {
     "name": "stdout",
     "output_type": "stream",
     "text": [
      "Train on 71238 samples, validate on 23746 samples\n",
      "Epoch 1/2\n",
      "71238/71238 [==============================] - 102s 1ms/step - loss: 0.1771 - acc: 0.9529 - val_loss: 0.0593 - val_acc: 0.9846\n",
      "Epoch 2/2\n",
      "71238/71238 [==============================] - 115s 2ms/step - loss: 0.0481 - acc: 0.9870 - val_loss: 0.0553 - val_acc: 0.9864\n"
     ]
    },
    {
     "data": {
      "text/plain": [
       "<keras.callbacks.History at 0x1bda8327be0>"
      ]
     },
     "execution_count": 7,
     "metadata": {},
     "output_type": "execute_result"
    }
   ],
   "source": [
    "model = Sequential()\n",
    "model.add(Conv2D(10, (5, 5), padding=\"same\", input_shape=(20, 20, 1), activation=\"relu\"))\n",
    "model.add(MaxPooling2D(pool_size=(2, 2), strides=(2, 2)))\n",
    "model.add(Conv2D(40, (5, 5), padding=\"same\", activation=\"relu\"))\n",
    "model.add(MaxPooling2D(pool_size=(2, 2), strides=(2, 2)))\n",
    "model.add(Flatten())\n",
    "model.add(Dense(512, activation=\"relu\"))\n",
    "model.add(Dense(19, activation=\"softmax\"))\n",
    "model.compile(loss=\"categorical_crossentropy\", optimizer=\"adam\", metrics=[\"accuracy\"])\n",
    "model.fit(X_train, y_train, validation_data=(X_test, y_test), batch_size=19, epochs=2, verbose=1)"
   ]
  },
  {
   "cell_type": "code",
   "execution_count": 8,
   "metadata": {
    "collapsed": true
   },
   "outputs": [],
   "source": [
    "model.save('models/ideal/ideal.h5')\n",
    "\n",
    "with open('models/ideal/model_label_map.dat','wb') as f:\n",
    "    pickle.dump(lb,f)"
   ]
  },
  {
   "cell_type": "code",
   "execution_count": null,
   "metadata": {
    "collapsed": true
   },
   "outputs": [],
   "source": []
  }
 ],
 "metadata": {
  "kernelspec": {
   "display_name": "Python 3",
   "language": "python",
   "name": "python3"
  },
  "language_info": {
   "codemirror_mode": {
    "name": "ipython",
    "version": 3
   },
   "file_extension": ".py",
   "mimetype": "text/x-python",
   "name": "python",
   "nbconvert_exporter": "python",
   "pygments_lexer": "ipython3",
   "version": "3.6.3"
  }
 },
 "nbformat": 4,
 "nbformat_minor": 2
}

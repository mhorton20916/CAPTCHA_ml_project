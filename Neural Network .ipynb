{
 "cells": [
  {
   "cell_type": "code",
   "execution_count": 35,
   "metadata": {},
   "outputs": [],
   "source": [
    "import cv2\n",
    "import pickle\n",
    "import os.path\n",
    "import numpy as np\n",
    "np.random.seed(0)\n",
    "from imutils import paths\n",
    "from sklearn.preprocessing import LabelBinarizer\n",
    "from sklearn.model_selection import train_test_split\n",
    "from keras.models import Sequential\n",
    "from keras.layers.convolutional import Conv2D, MaxPooling2D\n",
    "from keras.layers.core import Flatten, Dense\n",
    "from helpers import resize_to_fit\n",
    "\n",
    "\n",
    "\n",
    "\n",
    "# Dependencies to Visualize the model# Depen \n",
    "%matplotlib inline\n",
    "from IPython.display import Image, SVG\n",
    "import matplotlib.pyplot as plt\n",
    "import numpy as np\n",
    "np.random.seed(0)\n"
   ]
  },
  {
   "cell_type": "code",
   "execution_count": 3,
   "metadata": {
    "collapsed": true
   },
   "outputs": [],
   "source": [
    "letters =  \"letters\"\n",
    "model_file = 'captcha_model.hdf5'\n",
    "model_labels = 'model_labels.dat'\n",
    "data = []\n",
    "labels = []"
   ]
  },
  {
   "cell_type": "code",
   "execution_count": 4,
   "metadata": {
    "collapsed": true
   },
   "outputs": [],
   "source": [
    "for char_file in paths.list_images(letters):\n",
    "    #fix images\n",
    "    image = cv2.imread(char_file)\n",
    "    image = cv2.cvtColor(image, cv2.COLOR_BGR2GRAY)\n",
    "    image = resize_to_fit(image, 20, 20)\n",
    "    image = np.expand_dims(image, axis=2)\n",
    "    #Add test and correct data\n",
    "    label = char_file.split(os.path.sep)[-2]\n",
    "    data.append(image)\n",
    "    labels.append(label)\n",
    "    #make zeros and ones"
   ]
  },
  {
   "cell_type": "code",
   "execution_count": 5,
   "metadata": {
    "collapsed": true
   },
   "outputs": [],
   "source": [
    " #make zeros and ones\n",
    "data = np.array(data, dtype=\"float\") / 255.0\n",
    "labels = np.array(labels)\n"
   ]
  },
  {
   "cell_type": "code",
   "execution_count": 6,
   "metadata": {
    "collapsed": true
   },
   "outputs": [],
   "source": [
    "#make test and train data\n",
    "(x_train, x_test, y_train, y_test) = train_test_split(data, labels, test_size = 0.25, random_state = 0)\n",
    "Binarizer = LabelBinarizer().fit(y_train)\n",
    "y_train = Binarizer.transform(y_train)\n",
    "y_test = Binarizer.transform(y_test)\n",
    "with open(model_labels, \"wb\") as f:\n",
    "  pickle.dump(Binarizer, f)"
   ]
  },
  {
   "cell_type": "code",
   "execution_count": 53,
   "metadata": {},
   "outputs": [
    {
     "name": "stdout",
     "output_type": "stream",
     "text": [
      "Train on 71238 samples, validate on 23746 samples\n",
      "Epoch 1/10\n",
      "71238/71238 [==============================] - 110s 2ms/step - loss: 0.1786 - acc: 0.9531 - val_loss: 0.0603 - val_acc: 0.9852\n",
      "Epoch 2/10\n",
      "71238/71238 [==============================] - 105s 1ms/step - loss: 0.0478 - acc: 0.9878 - val_loss: 0.0480 - val_acc: 0.9880\n",
      "Epoch 3/10\n",
      "71238/71238 [==============================] - 101s 1ms/step - loss: 0.0324 - acc: 0.9912 - val_loss: 0.0457 - val_acc: 0.9894\n",
      "Epoch 4/10\n",
      "71238/71238 [==============================] - 102s 1ms/step - loss: 0.0249 - acc: 0.9931 - val_loss: 0.0486 - val_acc: 0.9893\n",
      "Epoch 5/10\n",
      "71238/71238 [==============================] - 102s 1ms/step - loss: 0.0173 - acc: 0.9950 - val_loss: 0.0541 - val_acc: 0.9888\n",
      "Epoch 6/10\n",
      "71238/71238 [==============================] - 103s 1ms/step - loss: 0.0129 - acc: 0.9968 - val_loss: 0.0624 - val_acc: 0.9880\n",
      "Epoch 7/10\n",
      "71238/71238 [==============================] - 106s 1ms/step - loss: 0.0142 - acc: 0.9964 - val_loss: 0.0610 - val_acc: 0.9891\n",
      "Epoch 8/10\n",
      "71238/71238 [==============================] - 104s 1ms/step - loss: 0.0104 - acc: 0.9975 - val_loss: 0.0725 - val_acc: 0.9863\n",
      "Epoch 9/10\n",
      "71238/71238 [==============================] - 106s 1ms/step - loss: 0.0097 - acc: 0.9978 - val_loss: 0.0624 - val_acc: 0.9889\n",
      "Epoch 10/10\n",
      "71238/71238 [==============================] - 108s 2ms/step - loss: 0.0100 - acc: 0.9977 - val_loss: 0.0649 - val_acc: 0.9884\n"
     ]
    }
   ],
   "source": [
    "#build nerual net\n",
    "model = Sequential()\n",
    "model.add(Conv2D(20, (5, 5), padding=\"same\", input_shape=(20, 20, 1), activation=\"relu\"))\n",
    "model.add(MaxPooling2D(pool_size=(2, 2), strides=(2, 2)))\n",
    "model.add(Conv2D(50, (5, 5), padding=\"same\", activation=\"relu\"))\n",
    "model.add(MaxPooling2D(pool_size=(2, 2), strides=(2, 2)))\n",
    "model.add(Flatten())\n",
    "model.add(Dense(500, activation=\"relu\"))\n",
    "model.add(Dense(19, activation=\"softmax\"))\n",
    "model.compile(loss=\"categorical_crossentropy\", optimizer=\"adam\", metrics=[\"accuracy\"])\n",
    "model.fit(x_train, y_train, validation_data=(x_test, y_test), batch_size=32, epochs=10, verbose=1)\n",
    "model.save(model_file)"
   ]
  },
  {
   "cell_type": "code",
   "execution_count": 54,
   "metadata": {
    "collapsed": true
   },
   "outputs": [],
   "source": [
    "\n",
    "model.save(model_file)"
   ]
  },
  {
   "cell_type": "code",
   "execution_count": 55,
   "metadata": {},
   "outputs": [
    {
     "name": "stdout",
     "output_type": "stream",
     "text": [
      "Loss: 0.06493915398939694, Accuracy: 0.9884191021645751\n"
     ]
    }
   ],
   "source": [
    "model_loss, model_accuracy = model.evaluate(x_test, y_test, verbose=2)\n",
    "print(f\"Loss: {model_loss}, Accuracy: {model_accuracy}\")"
   ]
  },
  {
   "cell_type": "code",
   "execution_count": null,
   "metadata": {
    "collapsed": true
   },
   "outputs": [],
   "source": []
  }
 ],
 "metadata": {
  "kernelspec": {
   "display_name": "Python 3",
   "language": "python",
   "name": "python3"
  },
  "language_info": {
   "codemirror_mode": {
    "name": "ipython",
    "version": 3
   },
   "file_extension": ".py",
   "mimetype": "text/x-python",
   "name": "python",
   "nbconvert_exporter": "python",
   "pygments_lexer": "ipython3",
   "version": "3.6.3"
  }
 },
 "nbformat": 4,
 "nbformat_minor": 2
}

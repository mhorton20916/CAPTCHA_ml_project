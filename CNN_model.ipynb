{
 "cells": [
  {
   "cell_type": "code",
   "execution_count": 1,
   "metadata": {},
   "outputs": [
    {
     "name": "stderr",
     "output_type": "stream",
     "text": [
      "Using TensorFlow backend.\n"
     ]
    }
   ],
   "source": [
    "import os.path\n",
    "from imutils import paths, resize\n",
    "import cv2\n",
    "import numpy as np\n",
    "from sklearn.model_selection import train_test_split\n",
    "from sklearn.preprocessing import LabelBinarizer\n",
    "from keras.models import Sequential\n",
    "from keras.layers.convolutional import Conv2D, MaxPooling2D\n",
    "from keras.layers.core import Flatten, Dense\n",
    "\n",
    "from custom import get_letters_list2, normalize_image_size\n",
    "\n",
    "import pickle\n",
    "\n",
    "import pandas as pd\n",
    "from random import choices\n",
    "import matplotlib.pyplot as plt"
   ]
  },
  {
   "cell_type": "code",
   "execution_count": 2,
   "metadata": {},
   "outputs": [
    {
     "data": {
      "text/plain": [
       "<generator object list_files at 0x000001593607E8E0>"
      ]
     },
     "execution_count": 2,
     "metadata": {},
     "output_type": "execute_result"
    }
   ],
   "source": [
    "paths.list_images('grainy_samples/letters')"
   ]
  },
  {
   "cell_type": "code",
   "execution_count": 3,
   "metadata": {},
   "outputs": [
    {
     "name": "stdout",
     "output_type": "stream",
     "text": [
      "Added image #2000\n",
      "Added image #4000\n",
      "Added image #6000\n",
      "Added image #8000\n",
      "Added image #10000\n",
      "Added image #12000\n",
      "Added image #14000\n",
      "Added image #16000\n",
      "Added image #18000\n",
      "Added image #20000\n",
      "Added image #22000\n",
      "Added image #24000\n",
      "Added image #26000\n",
      "Added image #28000\n",
      "Added image #30000\n",
      "Added image #32000\n",
      "Added image #34000\n",
      "Added image #36000\n",
      "Added image #38000\n",
      "Added image #40000\n",
      "Added image #42000\n",
      "Added image #44000\n",
      "Added image #46000\n",
      "Added image #48000\n",
      "Added image #50000\n",
      "Added image #52000\n",
      "Added image #54000\n",
      "Added image #56000\n",
      "Added image #58000\n",
      "Added image #60000\n",
      "Added image #62000\n",
      "Added image #64000\n",
      "Added image #66000\n",
      "Added image #68000\n",
      "Added image #70000\n",
      "Added image #72000\n",
      "Added image #74000\n",
      "Added image #76000\n",
      "Added image #78000\n",
      "Added image #80000\n",
      "Added image #82000\n",
      "Added image #84000\n",
      "Added image #86000\n",
      "Added image #88000\n",
      "Added image #90000\n",
      "Added image #92000\n",
      "Added image #94000\n"
     ]
    }
   ],
   "source": [
    "data = []\n",
    "labels = []\n",
    "count = 0\n",
    "for letter_path in paths.list_images('grainy_samples/letters'):\n",
    "    image = cv2.imread(letter_path,0)\n",
    "    \n",
    "    # Resize image\n",
    "    image = normalize_image_size(image,20,20)\n",
    "\n",
    "    \n",
    "    image = np.expand_dims(image, axis = 2)\n",
    "    data.append(image)\n",
    "    labels.append(letter_path.split(os.path.sep)[-2])\n",
    "    count+=1\n",
    "    if count%2000==0:\n",
    "        print('Added image #%d'%count)\n"
   ]
  },
  {
   "cell_type": "code",
   "execution_count": 4,
   "metadata": {
    "collapsed": true
   },
   "outputs": [],
   "source": [
    "data = np.array(data,dtype='float')/255.0\n",
    "labels = np.array(labels)"
   ]
  },
  {
   "cell_type": "code",
   "execution_count": 5,
   "metadata": {
    "collapsed": true
   },
   "outputs": [],
   "source": [
    "X_train, X_test, y_train, y_test = train_test_split(data,labels, test_size=0.25)"
   ]
  },
  {
   "cell_type": "code",
   "execution_count": 6,
   "metadata": {
    "collapsed": true
   },
   "outputs": [],
   "source": [
    "lb = LabelBinarizer().fit(y_train)\n",
    "y_train = lb.transform(y_train)\n",
    "y_test = lb.transform(y_test)"
   ]
  },
  {
   "cell_type": "code",
   "execution_count": 27,
   "metadata": {
    "collapsed": true
   },
   "outputs": [],
   "source": [
    "model = Sequential()"
   ]
  },
  {
   "cell_type": "code",
   "execution_count": 29,
   "metadata": {
    "collapsed": true
   },
   "outputs": [],
   "source": [
    "model.add(Conv2D(20, (5, 5), padding=\"same\", input_shape=(20, 20, 1), activation=\"relu\"))\n",
    "model.add(MaxPooling2D(pool_size=(2, 2), strides=(2, 2)))"
   ]
  },
  {
   "cell_type": "code",
   "execution_count": 30,
   "metadata": {
    "collapsed": true
   },
   "outputs": [],
   "source": [
    "model.add(Conv2D(50, (5, 5), padding=\"same\", activation=\"relu\"))\n",
    "model.add(MaxPooling2D(pool_size=(2, 2), strides=(2, 2)))"
   ]
  },
  {
   "cell_type": "code",
   "execution_count": 32,
   "metadata": {
    "collapsed": true
   },
   "outputs": [],
   "source": [
    "model.add(Flatten())\n",
    "model.add(Dense(500, activation=\"relu\"))"
   ]
  },
  {
   "cell_type": "code",
   "execution_count": 34,
   "metadata": {
    "collapsed": true
   },
   "outputs": [],
   "source": [
    "model.add(Dense(19, activation=\"softmax\"))"
   ]
  },
  {
   "cell_type": "code",
   "execution_count": 35,
   "metadata": {
    "collapsed": true
   },
   "outputs": [],
   "source": [
    "model.compile(loss=\"categorical_crossentropy\", optimizer=\"adam\", metrics=[\"accuracy\"])"
   ]
  },
  {
   "cell_type": "code",
   "execution_count": 36,
   "metadata": {},
   "outputs": [
    {
     "name": "stdout",
     "output_type": "stream",
     "text": [
      "Train on 71238 samples, validate on 23746 samples\n",
      "Epoch 1/10\n",
      "71238/71238 [==============================] - 177s 2ms/step - loss: 0.1620 - acc: 0.9571 - val_loss: 0.0582 - val_acc: 0.9859\n",
      "Epoch 2/10\n",
      "71238/71238 [==============================] - 176s 2ms/step - loss: 0.0465 - acc: 0.9877 - val_loss: 0.0587 - val_acc: 0.9864\n",
      "Epoch 3/10\n",
      "71238/71238 [==============================] - 176s 2ms/step - loss: 0.0315 - acc: 0.9912 - val_loss: 0.0532 - val_acc: 0.9877\n",
      "Epoch 4/10\n",
      "71238/71238 [==============================] - 172s 2ms/step - loss: 0.0220 - acc: 0.9938 - val_loss: 0.0536 - val_acc: 0.9877\n",
      "Epoch 5/10\n",
      "71238/71238 [==============================] - 174s 2ms/step - loss: 0.0167 - acc: 0.9951 - val_loss: 0.0630 - val_acc: 0.9869\n",
      "Epoch 6/10\n",
      "71238/71238 [==============================] - 178s 2ms/step - loss: 0.0138 - acc: 0.9962 - val_loss: 0.0679 - val_acc: 0.9872\n",
      "Epoch 7/10\n",
      "71238/71238 [==============================] - 176s 2ms/step - loss: 0.0116 - acc: 0.9968 - val_loss: 0.0688 - val_acc: 0.9888\n",
      "Epoch 8/10\n",
      "71238/71238 [==============================] - 180s 3ms/step - loss: 0.0117 - acc: 0.9971 - val_loss: 0.0762 - val_acc: 0.9883\n",
      "Epoch 9/10\n",
      "71238/71238 [==============================] - 179s 3ms/step - loss: 0.0104 - acc: 0.9972 - val_loss: 0.0776 - val_acc: 0.9888\n",
      "Epoch 10/10\n",
      "71238/71238 [==============================] - 169s 2ms/step - loss: 0.0108 - acc: 0.9973 - val_loss: 0.0955 - val_acc: 0.9864\n"
     ]
    },
    {
     "data": {
      "text/plain": [
       "<keras.callbacks.History at 0x21435e85a90>"
      ]
     },
     "execution_count": 36,
     "metadata": {},
     "output_type": "execute_result"
    }
   ],
   "source": [
    "model.fit(X_train, y_train, validation_data=(X_test, y_test), batch_size=19, epochs=10, verbose=1)"
   ]
  },
  {
   "cell_type": "code",
   "execution_count": 37,
   "metadata": {
    "collapsed": true
   },
   "outputs": [],
   "source": [
    "model.save('10Epoch_model.h5')"
   ]
  },
  {
   "cell_type": "code",
   "execution_count": 39,
   "metadata": {
    "collapsed": true
   },
   "outputs": [],
   "source": [
    "with open('model_label_map.dat','wb') as f:\n",
    "    pickle.dump(lb,f)"
   ]
  },
  {
   "cell_type": "code",
   "execution_count": 42,
   "metadata": {
    "collapsed": true
   },
   "outputs": [],
   "source": [
    "test = get_letters_list2('test_CAPTCHA.png')\n",
    "attempted_password = ''\n",
    "for let in test:\n",
    "    let = normalize_image_size(let)\n",
    "    let = np.expand_dims(let,axis=2)\n",
    "    let = np.expand_dims(let,axis=0)\n",
    "    prediction = model.predict(let)\n",
    "    letter_output = lb.inverse_transform(prediction)[0]\n",
    "    attempted_password+=letter_output"
   ]
  },
  {
   "cell_type": "code",
   "execution_count": 43,
   "metadata": {},
   "outputs": [
    {
     "data": {
      "text/plain": [
       "'wvphnh'"
      ]
     },
     "execution_count": 43,
     "metadata": {},
     "output_type": "execute_result"
    }
   ],
   "source": [
    "attempted_password"
   ]
  },
  {
   "cell_type": "code",
   "execution_count": 56,
   "metadata": {},
   "outputs": [
    {
     "data": {
      "text/html": [
       "<div>\n",
       "<style>\n",
       "    .dataframe thead tr:only-child th {\n",
       "        text-align: right;\n",
       "    }\n",
       "\n",
       "    .dataframe thead th {\n",
       "        text-align: left;\n",
       "    }\n",
       "\n",
       "    .dataframe tbody tr th {\n",
       "        vertical-align: top;\n",
       "    }\n",
       "</style>\n",
       "<table border=\"1\" class=\"dataframe\">\n",
       "  <thead>\n",
       "    <tr style=\"text-align: right;\">\n",
       "      <th></th>\n",
       "      <th>Image Name:</th>\n",
       "      <th>Model attempt:</th>\n",
       "    </tr>\n",
       "  </thead>\n",
       "  <tbody>\n",
       "    <tr>\n",
       "      <th>0</th>\n",
       "      <td>aqnqvy.jpg</td>\n",
       "      <td>uqnqvy</td>\n",
       "    </tr>\n",
       "    <tr>\n",
       "      <th>1</th>\n",
       "      <td>axwvgn.jpg</td>\n",
       "      <td>zxnvgn</td>\n",
       "    </tr>\n",
       "    <tr>\n",
       "      <th>2</th>\n",
       "      <td>dkxuyg.jpg</td>\n",
       "      <td>dkxuvg</td>\n",
       "    </tr>\n",
       "    <tr>\n",
       "      <th>3</th>\n",
       "      <td>ebcwuw.jpg</td>\n",
       "      <td>cbcwuw</td>\n",
       "    </tr>\n",
       "    <tr>\n",
       "      <th>4</th>\n",
       "      <td>eybvyx.jpg</td>\n",
       "      <td>cybvyx</td>\n",
       "    </tr>\n",
       "    <tr>\n",
       "      <th>5</th>\n",
       "      <td>gzdudp.jpg</td>\n",
       "      <td>szdudp</td>\n",
       "    </tr>\n",
       "    <tr>\n",
       "      <th>6</th>\n",
       "      <td>huykoz.jpg</td>\n",
       "      <td>huykcz</td>\n",
       "    </tr>\n",
       "    <tr>\n",
       "      <th>7</th>\n",
       "      <td>nqaxdk.jpg</td>\n",
       "      <td>xqqxdc</td>\n",
       "    </tr>\n",
       "    <tr>\n",
       "      <th>8</th>\n",
       "      <td>ppykyz.jpg</td>\n",
       "      <td>ccykzz</td>\n",
       "    </tr>\n",
       "    <tr>\n",
       "      <th>9</th>\n",
       "      <td>uwqpaa.jpg</td>\n",
       "      <td>unqpza</td>\n",
       "    </tr>\n",
       "    <tr>\n",
       "      <th>10</th>\n",
       "      <td>xkyznc.jpg</td>\n",
       "      <td>xcyzcc</td>\n",
       "    </tr>\n",
       "  </tbody>\n",
       "</table>\n",
       "</div>"
      ],
      "text/plain": [
       "   Image Name: Model attempt:\n",
       "0   aqnqvy.jpg         uqnqvy\n",
       "1   axwvgn.jpg         zxnvgn\n",
       "2   dkxuyg.jpg         dkxuvg\n",
       "3   ebcwuw.jpg         cbcwuw\n",
       "4   eybvyx.jpg         cybvyx\n",
       "5   gzdudp.jpg         szdudp\n",
       "6   huykoz.jpg         huykcz\n",
       "7   nqaxdk.jpg         xqqxdc\n",
       "8   ppykyz.jpg         ccykzz\n",
       "9   uwqpaa.jpg         unqpza\n",
       "10  xkyznc.jpg         xcyzcc"
      ]
     },
     "execution_count": 56,
     "metadata": {},
     "output_type": "execute_result"
    }
   ],
   "source": [
    "test_list = os.listdir('grainy_samples/_10samples')\n",
    "passwords_list = []\n",
    "for test_path in test_list:\n",
    "    letters_list = get_letters_list2('grainy_samples/_10samples/%s'%test_path)\n",
    "    attempted_password = ''\n",
    "    for letter_image in letters_list:\n",
    "        letter_image = normalize_image_size(letter_image)\n",
    "#         cv2.imshow('letter',letter_image)\n",
    "#         cv2.waitKey(0)\n",
    "#         cv2.destroyAllWindows()\n",
    "        letter_image = np.expand_dims(letter_image,axis=2)\n",
    "        letter_image = np.expand_dims(letter_image,axis=0)\n",
    "        prediction = model.predict(letter_image)\n",
    "        attempted_password += lb.inverse_transform(prediction)[0]\n",
    "    passwords_list.append(attempted_password)\n",
    "#     print(attempted_password)\n",
    "        \n",
    "df = pd.DataFrame({'Image Name:':test_list,'Model attempt:':passwords_list})\n",
    "df"
   ]
  },
  {
   "cell_type": "code",
   "execution_count": 51,
   "metadata": {},
   "outputs": [
    {
     "data": {
      "text/plain": [
       "['aqnqvy.jpg',\n",
       " 'axwvgn.jpg',\n",
       " 'dkxuyg.jpg',\n",
       " 'ebcwuw.jpg',\n",
       " 'eybvyx.jpg',\n",
       " 'gzdudp.jpg',\n",
       " 'huykoz.jpg',\n",
       " 'nqaxdk.jpg',\n",
       " 'ppykyz.jpg',\n",
       " 'uwqpaa.jpg',\n",
       " 'xkyznc.jpg']"
      ]
     },
     "execution_count": 51,
     "metadata": {},
     "output_type": "execute_result"
    }
   ],
   "source": [
    "test_list"
   ]
  },
  {
   "cell_type": "code",
   "execution_count": 52,
   "metadata": {},
   "outputs": [
    {
     "data": {
      "text/plain": [
       "['uqnqvy',\n",
       " 'zxnvgn',\n",
       " 'dkxuvg',\n",
       " 'cbcwuw',\n",
       " 'cybvyx',\n",
       " 'szdudp',\n",
       " 'huykcz',\n",
       " 'xqqxdc',\n",
       " 'ccykzz',\n",
       " 'unqpza',\n",
       " 'xcyzcc']"
      ]
     },
     "execution_count": 52,
     "metadata": {},
     "output_type": "execute_result"
    }
   ],
   "source": [
    "passwords_list"
   ]
  },
  {
   "cell_type": "code",
   "execution_count": 5,
   "metadata": {},
   "outputs": [
    {
     "data": {
      "text/plain": [
       "71238"
      ]
     },
     "execution_count": 5,
     "metadata": {},
     "output_type": "execute_result"
    }
   ],
   "source": [
    "len(X_train)"
   ]
  },
  {
   "cell_type": "code",
   "execution_count": 6,
   "metadata": {},
   "outputs": [
    {
     "data": {
      "text/plain": [
       "23746"
      ]
     },
     "execution_count": 6,
     "metadata": {},
     "output_type": "execute_result"
    }
   ],
   "source": [
    "len(X_test)"
   ]
  },
  {
   "cell_type": "markdown",
   "metadata": {},
   "source": [
    "# Determining Ideal Filter Number (1 of 2)"
   ]
  },
  {
   "cell_type": "code",
   "execution_count": 7,
   "metadata": {},
   "outputs": [
    {
     "name": "stdout",
     "output_type": "stream",
     "text": [
      "Train on 71238 samples, validate on 23746 samples\n",
      "Epoch 1/2\n",
      "71238/71238 [==============================] - 141s 2ms/step - loss: 0.1537 - acc: 0.9599 - val_loss: 0.0692 - val_acc: 0.9819\n",
      "Epoch 2/2\n",
      "71238/71238 [==============================] - 150s 2ms/step - loss: 0.0475 - acc: 0.9879 - val_loss: 0.0479 - val_acc: 0.9886\n",
      "Train on 71238 samples, validate on 23746 samples\n",
      "Epoch 1/2\n",
      "71238/71238 [==============================] - 178s 2ms/step - loss: 0.1586 - acc: 0.9591 - val_loss: 0.0552 - val_acc: 0.9867\n",
      "Epoch 2/2\n",
      "71238/71238 [==============================] - 169s 2ms/step - loss: 0.0463 - acc: 0.9883 - val_loss: 0.0594 - val_acc: 0.9853\n",
      "Train on 71238 samples, validate on 23746 samples\n",
      "Epoch 1/2\n",
      "71238/71238 [==============================] - 210s 3ms/step - loss: 0.1581 - acc: 0.9588 - val_loss: 0.0632 - val_acc: 0.9829\n",
      "Epoch 2/2\n",
      "71238/71238 [==============================] - 209s 3ms/step - loss: 0.0462 - acc: 0.9882 - val_loss: 0.0574 - val_acc: 0.9863\n",
      "Train on 71238 samples, validate on 23746 samples\n",
      "Epoch 1/2\n",
      "71238/71238 [==============================] - 273s 4ms/step - loss: 0.1557 - acc: 0.9588 - val_loss: 0.0530 - val_acc: 0.9872\n",
      "Epoch 2/2\n",
      "71238/71238 [==============================] - 253s 4ms/step - loss: 0.0466 - acc: 0.9875 - val_loss: 0.0462 - val_acc: 0.9891\n"
     ]
    }
   ],
   "source": [
    "layer_one_filter = [10,20,30,50]\n",
    "models_first_layer = []\n",
    "\n",
    "for lay in layer_one_filter:\n",
    "    model = Sequential()\n",
    "    model.add(Conv2D(lay, (5, 5), padding=\"same\", input_shape=(20, 20, 1), activation=\"relu\"))\n",
    "    model.add(MaxPooling2D(pool_size=(2, 2), strides=(2, 2)))\n",
    "    model.add(Conv2D(50, (5, 5), padding=\"same\", activation=\"relu\"))\n",
    "    model.add(MaxPooling2D(pool_size=(2, 2), strides=(2, 2)))\n",
    "    model.add(Flatten())\n",
    "    model.add(Dense(500, activation=\"relu\"))\n",
    "    model.add(Dense(19, activation=\"softmax\"))\n",
    "    model.compile(loss=\"categorical_crossentropy\", optimizer=\"adam\", metrics=[\"accuracy\"])\n",
    "    model.fit(X_train, y_train, validation_data=(X_test, y_test), batch_size=19, epochs=2, verbose=1)\n",
    "    models_first_layer.append(model)"
   ]
  },
  {
   "cell_type": "code",
   "execution_count": 8,
   "metadata": {},
   "outputs": [],
   "source": [
    "num_inputs = len(layer_one_filter)\n",
    "many_models = models_first_layer\n",
    "\n",
    "for layer_index in range(num_inputs):\n",
    "    many_models[layer_index].save('models/many_first_layer_filters/layerOne_%d.h5'%(layer_one_filter[layer_index]))\n",
    "\n",
    "with open('models/many_first_layer_filters/model_label_map.dat','wb') as f:\n",
    "    pickle.dump(lb,f)"
   ]
  },
  {
   "cell_type": "code",
   "execution_count": 39,
   "metadata": {},
   "outputs": [
    {
     "name": "stdout",
     "output_type": "stream",
     "text": [
      "Completed run #1\n",
      "Completed run #2\n",
      "Completed run #3\n",
      "Completed run #4\n",
      "Completed run #5\n",
      "Completed run #6\n",
      "Completed run #7\n",
      "Completed run #8\n",
      "Completed run #9\n",
      "Completed run #10\n",
      "Completed run #11\n",
      "Completed run #12\n",
      "Completed run #13\n",
      "Completed run #14\n",
      "Completed run #15\n",
      "Completed run #16\n",
      "Completed run #17\n",
      "Completed run #18\n",
      "Completed run #19\n",
      "Completed run #20\n",
      "Completed run #21\n",
      "Completed run #22\n",
      "Completed run #23\n",
      "Completed run #24\n",
      "Completed run #25\n",
      "Completed run #26\n",
      "Completed run #27\n",
      "Completed run #28\n",
      "Completed run #29\n",
      "Completed run #30\n",
      "Completed run #31\n",
      "Completed run #32\n",
      "Completed run #33\n",
      "Completed run #34\n",
      "Completed run #35\n",
      "Completed run #36\n",
      "Completed run #37\n",
      "Completed run #38\n",
      "Completed run #39\n",
      "Completed run #40\n",
      "Completed run #41\n",
      "Completed run #42\n",
      "Completed run #43\n",
      "Completed run #44\n",
      "Completed run #45\n",
      "Completed run #46\n",
      "Completed run #47\n",
      "Completed run #48\n",
      "Completed run #49\n",
      "Completed run #50\n",
      "Completed run #51\n",
      "Completed run #52\n",
      "Completed run #53\n",
      "Completed run #54\n",
      "Completed run #55\n",
      "Completed run #56\n",
      "Completed run #57\n",
      "Completed run #58\n",
      "Completed run #59\n",
      "Completed run #60\n",
      "Completed run #61\n",
      "Completed run #62\n",
      "Completed run #63\n",
      "Completed run #64\n",
      "Completed run #65\n",
      "Completed run #66\n",
      "Completed run #67\n",
      "Completed run #68\n",
      "Completed run #69\n",
      "Completed run #70\n",
      "Completed run #71\n",
      "Completed run #72\n",
      "Completed run #73\n",
      "Completed run #74\n",
      "Completed run #75\n",
      "Completed run #76\n",
      "Completed run #77\n",
      "Completed run #78\n",
      "Completed run #79\n",
      "Completed run #80\n",
      "Completed run #81\n",
      "Completed run #82\n",
      "Completed run #83\n",
      "Completed run #84\n",
      "Completed run #85\n",
      "Completed run #86\n",
      "Completed run #87\n",
      "Completed run #88\n",
      "Completed run #89\n",
      "Completed run #90\n",
      "Completed run #91\n",
      "Completed run #92\n",
      "Completed run #93\n",
      "Completed run #94\n",
      "Completed run #95\n",
      "Completed run #96\n",
      "Completed run #97\n",
      "Completed run #98\n",
      "Completed run #99\n",
      "Completed run #100\n"
     ]
    }
   ],
   "source": [
    "test_list_full = os.listdir('grainy_samples/samples')\n",
    "errors_matrix = []\n",
    "\n",
    "\n",
    "for i in range(100):\n",
    "    test_list = choices(test_list_full,k=10)\n",
    "    passwords_list = []\n",
    "    for model in many_models:\n",
    "        for test_path in test_list:\n",
    "            letters_list = get_letters_list2('grainy_samples/samples/%s'%test_path)\n",
    "            if(type(letters_list[0])==str):\n",
    "                break\n",
    "            attempted_password = ''\n",
    "            for letter_image in letters_list:\n",
    "                letter_image = normalize_image_size(letter_image,20,20)\n",
    "        #         cv2.imshow('letter',letter_image)\n",
    "        #         cv2.waitKey(0)\n",
    "        #         cv2.destroyAllWindows()\n",
    "                letter_image = np.expand_dims(letter_image,axis=2)\n",
    "                letter_image = np.expand_dims(letter_image,axis=0)\n",
    "                prediction = model.predict(letter_image)\n",
    "                attempted_password += lb.inverse_transform(prediction)[0]\n",
    "            passwords_list.append(attempted_password)\n",
    "    filtered_answers = [a.split('.')[0] for a in test_list]\n",
    "#     print(len(passwords_list))\n",
    "    if (len(passwords_list)/num_inputs)==len(filtered_answers):\n",
    "        for j in range(num_inputs):\n",
    "            for k in range(10):\n",
    "                errors_per_model = sum([passwords_list[10*j:10*(j+1)][k][a]!=filtered_answers[k][a] for a in range(6)])\n",
    "                errors_matrix.append(errors_per_model)\n",
    "    print('Completed run #%d'%(i+1))\n",
    "#     print(errors_per_model)"
   ]
  },
  {
   "cell_type": "code",
   "execution_count": 40,
   "metadata": {},
   "outputs": [],
   "source": [
    "layerOne10 = []\n",
    "layerOne20 = []\n",
    "layerOne30 = []\n",
    "layerOne50 = []\n",
    "\n",
    "\n",
    "for i in range(int(len(errors_matrix)/40)):\n",
    "    for j in range(10):\n",
    "        layerOne10.append(errors_matrix[i*40+j])\n",
    "        layerOne20.append(errors_matrix[40*i+10+j])\n",
    "        layerOne30.append(errors_matrix[40*i+20+j])\n",
    "        layerOne50.append(errors_matrix[40*i+30+j])\n"
   ]
  },
  {
   "cell_type": "code",
   "execution_count": 41,
   "metadata": {},
   "outputs": [],
   "source": [
    "error_sums = [sum(layerOne10),sum(layerOne20),sum(layerOne30),sum(layerOne50)]"
   ]
  },
  {
   "cell_type": "code",
   "execution_count": 42,
   "metadata": {},
   "outputs": [
    {
     "data": {
      "text/plain": [
       "[370, 534, 440, 449]"
      ]
     },
     "execution_count": 42,
     "metadata": {},
     "output_type": "execute_result"
    }
   ],
   "source": [
    "error_sums"
   ]
  },
  {
   "cell_type": "code",
   "execution_count": 43,
   "metadata": {},
   "outputs": [
    {
     "data": {
      "image/png": "[encoded data removed]",
      "text/plain": [
       "<matplotlib.figure.Figure at 0x159755cccf8>"
      ]
     },
     "metadata": {},
     "output_type": "display_data"
    }
   ],
   "source": [
    "\n",
    "plt.plot(layer_one_filter,error_sums)\n",
    "plt.title('Total Errors Detected over 100 trials')\n",
    "plt.xlabel('Number of Filters in First Convolutional Layer')\n",
    "plt.ylabel('Number of Errors (by letter)')\n",
    "plt.show()"
   ]
  },
  {
   "cell_type": "markdown",
   "metadata": {},
   "source": [
    "# Determining Ideal Filter Number (2 of 2)"
   ]
  },
  {
   "cell_type": "code",
   "execution_count": 16,
   "metadata": {},
   "outputs": [
    {
     "name": "stdout",
     "output_type": "stream",
     "text": [
      "Train on 71238 samples, validate on 23746 samples\n",
      "Epoch 1/2\n",
      "71238/71238 [==============================] - 164s 2ms/step - loss: 0.1611 - acc: 0.9572 - val_loss: 0.0601 - val_acc: 0.9844\n",
      "Epoch 2/2\n",
      "71238/71238 [==============================] - 164s 2ms/step - loss: 0.0466 - acc: 0.9883 - val_loss: 0.0535 - val_acc: 0.9873\n",
      "Train on 71238 samples, validate on 23746 samples\n",
      "Epoch 1/2\n",
      "71238/71238 [==============================] - 177s 2ms/step - loss: 0.1511 - acc: 0.9610 - val_loss: 0.0664 - val_acc: 0.9832\n",
      "Epoch 2/2\n",
      "71238/71238 [==============================] - 187s 3ms/step - loss: 0.0460 - acc: 0.9880 - val_loss: 0.0467 - val_acc: 0.9883\n",
      "Train on 71238 samples, validate on 23746 samples\n",
      "Epoch 1/2\n",
      "71238/71238 [==============================] - 209s 3ms/step - loss: 0.1608 - acc: 0.9578 - val_loss: 0.0581 - val_acc: 0.9853\n",
      "Epoch 2/2\n",
      "71238/71238 [==============================] - 216s 3ms/step - loss: 0.0479 - acc: 0.9875 - val_loss: 0.0509 - val_acc: 0.9882\n",
      "Train on 71238 samples, validate on 23746 samples\n",
      "Epoch 1/2\n",
      "71238/71238 [==============================] - 258s 4ms/step - loss: 0.1501 - acc: 0.9605 - val_loss: 0.0577 - val_acc: 0.9864\n",
      "Epoch 2/2\n",
      "71238/71238 [==============================] - 266s 4ms/step - loss: 0.0453 - acc: 0.9885 - val_loss: 0.0465 - val_acc: 0.9890\n"
     ]
    }
   ],
   "source": [
    "layer_two_filter = [30,40,50,80]\n",
    "many_models = []\n",
    "\n",
    "for lay in layer_two_filter:\n",
    "    model = Sequential()\n",
    "    model.add(Conv2D(30, (5, 5), padding=\"same\", input_shape=(20, 20, 1), activation=\"relu\"))\n",
    "    model.add(MaxPooling2D(pool_size=(2, 2), strides=(2, 2)))\n",
    "    model.add(Conv2D(lay, (5, 5), padding=\"same\", activation=\"relu\"))\n",
    "    model.add(MaxPooling2D(pool_size=(2, 2), strides=(2, 2)))\n",
    "    model.add(Flatten())\n",
    "    model.add(Dense(500, activation=\"relu\"))\n",
    "    model.add(Dense(19, activation=\"softmax\"))\n",
    "    model.compile(loss=\"categorical_crossentropy\", optimizer=\"adam\", metrics=[\"accuracy\"])\n",
    "    model.fit(X_train, y_train, validation_data=(X_test, y_test), batch_size=19, epochs=2, verbose=1)\n",
    "    many_models.append(model)"
   ]
  },
  {
   "cell_type": "code",
   "execution_count": 24,
   "metadata": {},
   "outputs": [],
   "source": [
    "num_inputs = len(layer_two_filter)\n",
    "\n",
    "for layer_index in range(num_inputs):\n",
    "    many_models[layer_index].save('models/many_second_layer_filters/layerTwo_%d.h5'%(layer_two_filter[layer_index]))\n",
    "\n",
    "with open('models/many_second_layer_filters/model_label_map.dat','wb') as f:\n",
    "    pickle.dump(lb,f)"
   ]
  },
  {
   "cell_type": "code",
   "execution_count": 27,
   "metadata": {},
   "outputs": [
    {
     "name": "stdout",
     "output_type": "stream",
     "text": [
      "Completed run #1\n",
      "Completed run #2\n",
      "Completed run #3\n",
      "Completed run #4\n",
      "Completed run #5\n",
      "Completed run #6\n",
      "Completed run #7\n",
      "Completed run #8\n",
      "Completed run #9\n",
      "Completed run #10\n",
      "Completed run #11\n",
      "Completed run #12\n",
      "Completed run #13\n",
      "Completed run #14\n",
      "Completed run #15\n",
      "Completed run #16\n",
      "Completed run #17\n",
      "Completed run #18\n",
      "Completed run #19\n",
      "Completed run #20\n",
      "Completed run #21\n",
      "Completed run #22\n",
      "Completed run #23\n",
      "Completed run #24\n",
      "Completed run #25\n",
      "Completed run #26\n",
      "Completed run #27\n",
      "Completed run #28\n",
      "Completed run #29\n",
      "Completed run #30\n",
      "Completed run #31\n",
      "Completed run #32\n",
      "Completed run #33\n",
      "Completed run #34\n",
      "Completed run #35\n",
      "Completed run #36\n",
      "Completed run #37\n",
      "Completed run #38\n",
      "Completed run #39\n",
      "Completed run #40\n",
      "Completed run #41\n",
      "Completed run #42\n",
      "Completed run #43\n",
      "Completed run #44\n",
      "Completed run #45\n",
      "Completed run #46\n",
      "Completed run #47\n",
      "Completed run #48\n",
      "Completed run #49\n",
      "Completed run #50\n",
      "Completed run #51\n",
      "Completed run #52\n",
      "Completed run #53\n",
      "Completed run #54\n",
      "Completed run #55\n",
      "Completed run #56\n",
      "Completed run #57\n",
      "Completed run #58\n",
      "Completed run #59\n",
      "Completed run #60\n",
      "Completed run #61\n",
      "Completed run #62\n",
      "Completed run #63\n",
      "Completed run #64\n",
      "Completed run #65\n",
      "Completed run #66\n",
      "Completed run #67\n",
      "Completed run #68\n",
      "Completed run #69\n",
      "Completed run #70\n",
      "Completed run #71\n",
      "Completed run #72\n",
      "Completed run #73\n",
      "Completed run #74\n",
      "Completed run #75\n",
      "Completed run #76\n",
      "Completed run #77\n",
      "Completed run #78\n",
      "Completed run #79\n",
      "Completed run #80\n",
      "Completed run #81\n",
      "Completed run #82\n",
      "Completed run #83\n",
      "Completed run #84\n",
      "Completed run #85\n",
      "Completed run #86\n",
      "Completed run #87\n",
      "Completed run #88\n",
      "Completed run #89\n",
      "Completed run #90\n",
      "Completed run #91\n",
      "Completed run #92\n",
      "Completed run #93\n",
      "Completed run #94\n",
      "Completed run #95\n",
      "Completed run #96\n",
      "Completed run #97\n",
      "Completed run #98\n",
      "Completed run #99\n",
      "Completed run #100\n"
     ]
    }
   ],
   "source": [
    "test_list_full = os.listdir('grainy_samples/samples')\n",
    "errors_matrix = []\n",
    "\n",
    "\n",
    "for i in range(100):\n",
    "    test_list = choices(test_list_full,k=10)\n",
    "    passwords_list = []\n",
    "    for model in many_models:\n",
    "        for test_path in test_list:\n",
    "            letters_list = get_letters_list2('grainy_samples/samples/%s'%test_path)\n",
    "            if(type(letters_list[0])==str):\n",
    "                break\n",
    "            attempted_password = ''\n",
    "            for letter_image in letters_list:\n",
    "                letter_image = normalize_image_size(letter_image,20,20)\n",
    "        #         cv2.imshow('letter',letter_image)\n",
    "        #         cv2.waitKey(0)\n",
    "        #         cv2.destroyAllWindows()\n",
    "                letter_image = np.expand_dims(letter_image,axis=2)\n",
    "                letter_image = np.expand_dims(letter_image,axis=0)\n",
    "                prediction = model.predict(letter_image)\n",
    "                attempted_password += lb.inverse_transform(prediction)[0]\n",
    "            passwords_list.append(attempted_password)\n",
    "    filtered_answers = [a.split('.')[0] for a in test_list]\n",
    "#     print(len(passwords_list))\n",
    "    if (len(passwords_list)/num_inputs)==len(filtered_answers):\n",
    "        for j in range(num_inputs):\n",
    "            for k in range(10):\n",
    "                errors_per_model = sum([passwords_list[10*j:10*(j+1)][k][a]!=filtered_answers[k][a] for a in range(6)])\n",
    "                errors_matrix.append(errors_per_model)\n",
    "    print('Completed run #%d'%(i+1))\n",
    "#     print(errors_per_model)"
   ]
  },
  {
   "cell_type": "code",
   "execution_count": 28,
   "metadata": {
    "collapsed": true
   },
   "outputs": [],
   "source": [
    "layerTwo30 = []\n",
    "layerTwo40 = []\n",
    "layerTwo50 = []\n",
    "layerTwo80 = []\n",
    "\n",
    "\n",
    "for i in range(int(len(errors_matrix)/40)):\n",
    "    for j in range(10):\n",
    "        layerTwo30.append(errors_matrix[i*40+j])\n",
    "        layerTwo40.append(errors_matrix[40*i+10+j])\n",
    "        layerTwo50.append(errors_matrix[40*i+20+j])\n",
    "        layerTwo80.append(errors_matrix[40*i+30+j])"
   ]
  },
  {
   "cell_type": "code",
   "execution_count": 29,
   "metadata": {},
   "outputs": [],
   "source": [
    "error_sums = [sum(layerTwo30),sum(layerTwo40),sum(layerTwo50),sum(layerTwo80)]"
   ]
  },
  {
   "cell_type": "code",
   "execution_count": 30,
   "metadata": {},
   "outputs": [
    {
     "data": {
      "text/plain": [
       "[582, 167, 244, 598]"
      ]
     },
     "execution_count": 30,
     "metadata": {},
     "output_type": "execute_result"
    }
   ],
   "source": [
    "error_sums"
   ]
  },
  {
   "cell_type": "code",
   "execution_count": 31,
   "metadata": {},
   "outputs": [
    {
     "data": {
      "image/png": "[encoded data removed]",
      "text/plain": [
       "<matplotlib.figure.Figure at 0x159677212b0>"
      ]
     },
     "metadata": {},
     "output_type": "display_data"
    }
   ],
   "source": [
    "\n",
    "plt.plot(layer_two_filter,error_sums)\n",
    "plt.title('Total Errors Detected over 100 trials')\n",
    "plt.xlabel('Number of Filters in Second Convolutional Layer')\n",
    "plt.ylabel('Number of Errors (by letter)')\n",
    "plt.show()"
   ]
  },
  {
   "cell_type": "markdown",
   "metadata": {},
   "source": [
    "# Determining Ideal Dense Node Count"
   ]
  },
  {
   "cell_type": "code",
   "execution_count": 44,
   "metadata": {},
   "outputs": [
    {
     "name": "stdout",
     "output_type": "stream",
     "text": [
      "Train on 71238 samples, validate on 23746 samples\n",
      "Epoch 1/2\n",
      "71238/71238 [==============================] - 116s 2ms/step - loss: 0.2066 - acc: 0.9450 - val_loss: 0.0835 - val_acc: 0.9762\n",
      "Epoch 2/2\n",
      "71238/71238 [==============================] - 107s 2ms/step - loss: 0.0557 - acc: 0.9852 - val_loss: 0.0638 - val_acc: 0.9832\n",
      "Train on 71238 samples, validate on 23746 samples\n",
      "Epoch 1/2\n",
      "71238/71238 [==============================] - 138s 2ms/step - loss: 0.1678 - acc: 0.9565 - val_loss: 0.0676 - val_acc: 0.9825\n",
      "Epoch 2/2\n",
      "71238/71238 [==============================] - 107s 2ms/step - loss: 0.0485 - acc: 0.9877 - val_loss: 0.0522 - val_acc: 0.9875\n",
      "Train on 71238 samples, validate on 23746 samples\n",
      "Epoch 1/2\n",
      "71238/71238 [==============================] - 133s 2ms/step - loss: 0.1612 - acc: 0.9568 - val_loss: 0.0774 - val_acc: 0.9788\n",
      "Epoch 2/2\n",
      "71238/71238 [==============================] - 129s 2ms/step - loss: 0.0480 - acc: 0.9870 - val_loss: 0.0498 - val_acc: 0.9881\n"
     ]
    }
   ],
   "source": [
    "num_nodes = [256,512,1024]\n",
    "num_inputs = len(num_nodes)\n",
    "many_models = []\n",
    "\n",
    "for num in num_nodes:\n",
    "    model = Sequential()\n",
    "    model.add(Conv2D(10, (5, 5), padding=\"same\", input_shape=(20, 20, 1), activation=\"relu\"))\n",
    "    model.add(MaxPooling2D(pool_size=(2, 2), strides=(2, 2)))\n",
    "    model.add(Conv2D(40, (5, 5), padding=\"same\", activation=\"relu\"))\n",
    "    model.add(MaxPooling2D(pool_size=(2, 2), strides=(2, 2)))\n",
    "    model.add(Flatten())\n",
    "    model.add(Dense(num, activation=\"relu\"))\n",
    "    model.add(Dense(19, activation=\"softmax\"))\n",
    "    model.compile(loss=\"categorical_crossentropy\", optimizer=\"adam\", metrics=[\"accuracy\"])\n",
    "    model.fit(X_train, y_train, validation_data=(X_test, y_test), batch_size=19, epochs=2, verbose=1)\n",
    "    many_models.append(model)"
   ]
  },
  {
   "cell_type": "code",
   "execution_count": 45,
   "metadata": {
    "collapsed": true
   },
   "outputs": [],
   "source": [
    "for node_index in range(num_inputs):\n",
    "    many_models[node_index].save('models/many_nodes/nodeNum_%d.h5'%(num_nodes[node_index]))\n",
    "\n",
    "with open('models/many_nodes/model_label_map.dat','wb') as f:\n",
    "    pickle.dump(lb,f)"
   ]
  },
  {
   "cell_type": "code",
   "execution_count": 46,
   "metadata": {},
   "outputs": [
    {
     "name": "stdout",
     "output_type": "stream",
     "text": [
      "Completed run #1\n",
      "Completed run #2\n",
      "Completed run #3\n",
      "Completed run #4\n",
      "Completed run #5\n",
      "Completed run #6\n",
      "Completed run #7\n",
      "Completed run #8\n",
      "Completed run #9\n",
      "Completed run #10\n",
      "Completed run #11\n",
      "Completed run #12\n",
      "Completed run #13\n",
      "Completed run #14\n",
      "Completed run #15\n",
      "Completed run #16\n",
      "Completed run #17\n",
      "Completed run #18\n",
      "Completed run #19\n",
      "Completed run #20\n",
      "Completed run #21\n",
      "Completed run #22\n",
      "Completed run #23\n",
      "Completed run #24\n",
      "Completed run #25\n",
      "Completed run #26\n",
      "Completed run #27\n",
      "Completed run #28\n",
      "Completed run #29\n",
      "Completed run #30\n",
      "Completed run #31\n",
      "Completed run #32\n",
      "Completed run #33\n",
      "Completed run #34\n",
      "Completed run #35\n",
      "Completed run #36\n",
      "Completed run #37\n",
      "Completed run #38\n",
      "Completed run #39\n",
      "Completed run #40\n",
      "Completed run #41\n",
      "Completed run #42\n",
      "Completed run #43\n",
      "Completed run #44\n",
      "Completed run #45\n",
      "Completed run #46\n",
      "Completed run #47\n",
      "Completed run #48\n",
      "Completed run #49\n",
      "Completed run #50\n",
      "Completed run #51\n",
      "Completed run #52\n",
      "Completed run #53\n",
      "Completed run #54\n",
      "Completed run #55\n",
      "Completed run #56\n",
      "Completed run #57\n",
      "Completed run #58\n",
      "Completed run #59\n",
      "Completed run #60\n",
      "Completed run #61\n",
      "Completed run #62\n",
      "Completed run #63\n",
      "Completed run #64\n",
      "Completed run #65\n",
      "Completed run #66\n",
      "Completed run #67\n",
      "Completed run #68\n",
      "Completed run #69\n",
      "Completed run #70\n",
      "Completed run #71\n",
      "Completed run #72\n",
      "Completed run #73\n",
      "Completed run #74\n",
      "Completed run #75\n",
      "Completed run #76\n",
      "Completed run #77\n",
      "Completed run #78\n",
      "Completed run #79\n",
      "Completed run #80\n",
      "Completed run #81\n",
      "Completed run #82\n",
      "Completed run #83\n",
      "Completed run #84\n",
      "Completed run #85\n",
      "Completed run #86\n",
      "Completed run #87\n",
      "Completed run #88\n",
      "Completed run #89\n",
      "Completed run #90\n",
      "Completed run #91\n",
      "Completed run #92\n",
      "Completed run #93\n",
      "Completed run #94\n",
      "Completed run #95\n",
      "Completed run #96\n",
      "Completed run #97\n",
      "Completed run #98\n",
      "Completed run #99\n",
      "Completed run #100\n"
     ]
    }
   ],
   "source": [
    "test_list_full = os.listdir('grainy_samples/samples')\n",
    "errors_matrix = []\n",
    "\n",
    "\n",
    "for i in range(100):\n",
    "    test_list = choices(test_list_full,k=10)\n",
    "    passwords_list = []\n",
    "    for model in many_models:\n",
    "        for test_path in test_list:\n",
    "            letters_list = get_letters_list2('grainy_samples/samples/%s'%test_path)\n",
    "            if(type(letters_list[0])==str):\n",
    "                break\n",
    "            attempted_password = ''\n",
    "            for letter_image in letters_list:\n",
    "                letter_image = normalize_image_size(letter_image,20,20)\n",
    "        #         cv2.imshow('letter',letter_image)\n",
    "        #         cv2.waitKey(0)\n",
    "        #         cv2.destroyAllWindows()\n",
    "                letter_image = np.expand_dims(letter_image,axis=2)\n",
    "                letter_image = np.expand_dims(letter_image,axis=0)\n",
    "                prediction = model.predict(letter_image)\n",
    "                attempted_password += lb.inverse_transform(prediction)[0]\n",
    "            passwords_list.append(attempted_password)\n",
    "    filtered_answers = [a.split('.')[0] for a in test_list]\n",
    "#     print(len(passwords_list))\n",
    "    if (len(passwords_list)/num_inputs)==len(filtered_answers):\n",
    "        for j in range(num_inputs):\n",
    "            for k in range(10):\n",
    "                errors_per_model = sum([passwords_list[10*j:10*(j+1)][k][a]!=filtered_answers[k][a] for a in range(6)])\n",
    "                errors_matrix.append(errors_per_model)\n",
    "    print('Completed run #%d'%(i+1))\n",
    "#     print(errors_per_model)"
   ]
  },
  {
   "cell_type": "code",
   "execution_count": 47,
   "metadata": {
    "collapsed": true
   },
   "outputs": [],
   "source": [
    "nodes256 = []\n",
    "nodes512 = []\n",
    "nodes1024 = []\n",
    "\n",
    "\n",
    "for i in range(int(len(errors_matrix)/30)):\n",
    "    for j in range(10):\n",
    "        nodes256.append(errors_matrix[i*30+j])\n",
    "        nodes512.append(errors_matrix[30*i+10+j])\n",
    "        nodes1024.append(errors_matrix[30*i+20+j])"
   ]
  },
  {
   "cell_type": "code",
   "execution_count": 48,
   "metadata": {
    "collapsed": true
   },
   "outputs": [],
   "source": [
    "error_sums = [sum(nodes256),sum(nodes512),sum(nodes1024)]"
   ]
  },
  {
   "cell_type": "code",
   "execution_count": 49,
   "metadata": {},
   "outputs": [
    {
     "data": {
      "text/plain": [
       "[848, 190, 441]"
      ]
     },
     "execution_count": 49,
     "metadata": {},
     "output_type": "execute_result"
    }
   ],
   "source": [
    "error_sums"
   ]
  },
  {
   "cell_type": "code",
   "execution_count": 50,
   "metadata": {},
   "outputs": [
    {
     "data": {
      "image/png": "[encoded data removed]",
      "text/plain": [
       "<matplotlib.figure.Figure at 0x159799141d0>"
      ]
     },
     "metadata": {},
     "output_type": "display_data"
    }
   ],
   "source": [
    "\n",
    "plt.plot(num_nodes,error_sums)\n",
    "plt.title('Total Errors Detected over 100 trials')\n",
    "plt.xlabel('Number of Nodes in Dense Layer')\n",
    "plt.ylabel('Number of Errors (by letter)')\n",
    "plt.show()"
   ]
  },
  {
   "cell_type": "code",
   "execution_count": null,
   "metadata": {
    "collapsed": true
   },
   "outputs": [],
   "source": [
    "    "
   ]
  }
 ],
 "metadata": {
  "kernelspec": {
   "display_name": "Python 3",
   "language": "python",
   "name": "python3"
  },
  "language_info": {
   "codemirror_mode": {
    "name": "ipython",
    "version": 3
   },
   "file_extension": ".py",
   "mimetype": "text/x-python",
   "name": "python",
   "nbconvert_exporter": "python",
   "pygments_lexer": "ipython3",
   "version": "3.6.3"
  }
 },
 "nbformat": 4,
 "nbformat_minor": 2
}

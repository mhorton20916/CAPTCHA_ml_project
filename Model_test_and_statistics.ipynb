{
 "cells": [
  {
   "cell_type": "code",
   "execution_count": 1,
   "metadata": {},
   "outputs": [
    {
     "name": "stderr",
     "output_type": "stream",
     "text": [
      "Using TensorFlow backend.\n"
     ]
    }
   ],
   "source": [
    "import os.path\n",
    "from imutils import paths, resize\n",
    "import cv2\n",
    "import numpy as np\n",
    "from sklearn.model_selection import train_test_split\n",
    "from sklearn.preprocessing import LabelBinarizer\n",
    "from keras.models import Sequential\n",
    "from keras.layers.convolutional import Conv2D, MaxPooling2D\n",
    "from keras.layers.core import Flatten, Dense\n",
    "\n",
    "from custom import get_letters_list2, normalize_image_size\n",
    "\n",
    "import pickle\n",
    "\n",
    "import pandas as pd\n",
    "from random import choices\n",
    "import matplotlib.pyplot as plt"
   ]
  },
  {
   "cell_type": "code",
   "execution_count": 2,
   "metadata": {
    "collapsed": true
   },
   "outputs": [],
   "source": [
    "from keras.models import load_model\n",
    "model = load_model('ideal/ideal.h5')\n",
    "\n",
    "with open('ideal/model_label_map.dat','rb') as f:\n",
    "    lb = pickle.load(f)"
   ]
  },
  {
   "cell_type": "code",
   "execution_count": 3,
   "metadata": {},
   "outputs": [
    {
     "name": "stdout",
     "output_type": "stream",
     "text": [
      "Completed run #1\n",
      "Completed run #2\n",
      "Completed run #3\n",
      "Completed run #4\n",
      "Completed run #5\n",
      "Completed run #6\n",
      "Completed run #7\n",
      "Completed run #8\n",
      "Completed run #9\n",
      "Completed run #10\n",
      "Completed run #11\n",
      "Completed run #12\n",
      "Completed run #13\n",
      "Completed run #14\n",
      "Completed run #15\n",
      "Completed run #16\n",
      "Completed run #17\n",
      "Completed run #18\n",
      "Completed run #19\n",
      "Completed run #20\n",
      "Completed run #21\n",
      "Completed run #22\n",
      "Completed run #23\n",
      "Completed run #24\n",
      "Completed run #25\n",
      "Completed run #26\n",
      "Completed run #27\n",
      "Completed run #28\n",
      "Completed run #29\n",
      "Completed run #30\n",
      "Completed run #31\n",
      "Completed run #32\n",
      "Completed run #33\n",
      "Completed run #34\n",
      "Completed run #35\n",
      "Completed run #36\n",
      "Completed run #37\n",
      "Completed run #38\n",
      "Completed run #39\n",
      "Completed run #40\n",
      "Completed run #41\n",
      "Completed run #42\n",
      "Completed run #43\n",
      "Completed run #44\n",
      "Completed run #45\n",
      "Completed run #46\n",
      "Completed run #47\n",
      "Completed run #48\n",
      "Completed run #49\n",
      "Completed run #50\n",
      "Completed run #51\n",
      "Completed run #52\n",
      "Completed run #53\n",
      "Completed run #54\n",
      "Completed run #55\n",
      "Completed run #56\n",
      "Completed run #57\n",
      "Completed run #58\n",
      "Completed run #59\n",
      "Completed run #60\n",
      "Completed run #61\n",
      "Completed run #62\n",
      "Completed run #63\n",
      "Completed run #64\n",
      "Completed run #65\n",
      "Completed run #66\n",
      "Completed run #67\n",
      "Completed run #68\n",
      "Completed run #69\n",
      "Completed run #70\n",
      "Completed run #71\n",
      "Completed run #72\n",
      "Completed run #73\n",
      "Completed run #74\n",
      "Completed run #75\n",
      "Completed run #76\n",
      "Completed run #77\n",
      "Completed run #78\n",
      "Completed run #79\n",
      "Completed run #80\n",
      "Completed run #81\n",
      "Completed run #82\n",
      "Completed run #83\n",
      "Completed run #84\n",
      "Completed run #85\n",
      "Completed run #86\n",
      "Completed run #87\n",
      "Completed run #88\n",
      "Completed run #89\n",
      "Completed run #90\n",
      "Completed run #91\n",
      "Completed run #92\n",
      "Completed run #93\n",
      "Completed run #94\n",
      "Completed run #95\n",
      "Completed run #96\n",
      "Completed run #97\n",
      "Completed run #98\n",
      "Completed run #99\n",
      "Completed run #100\n"
     ]
    }
   ],
   "source": [
    "test_list_full = os.listdir('grainy_samples/samples')\n",
    "errors_matrix = []\n",
    "\n",
    "\n",
    "for i in range(100):\n",
    "    test_list = choices(test_list_full,k=10)\n",
    "    passwords_list = []\n",
    "    for test_path in test_list:\n",
    "        letters_list = get_letters_list2('grainy_samples/samples/%s'%test_path)\n",
    "        if(type(letters_list[0])==str):\n",
    "            break\n",
    "        attempted_password = ''\n",
    "        for letter_image in letters_list:\n",
    "            letter_image = normalize_image_size(letter_image,20,20)\n",
    "    #         cv2.imshow('letter',letter_image)\n",
    "    #         cv2.waitKey(0)\n",
    "    #         cv2.destroyAllWindows()\n",
    "            letter_image = np.expand_dims(letter_image,axis=2)\n",
    "            letter_image = np.expand_dims(letter_image,axis=0)\n",
    "            prediction = model.predict(letter_image)\n",
    "            attempted_password += lb.inverse_transform(prediction)[0]\n",
    "        passwords_list.append(attempted_password)\n",
    "    filtered_answers = [a.split('.')[0] for a in test_list]\n",
    "#     print(len(passwords_list))\n",
    "    if(len(passwords_list)==len(filtered_answers)):\n",
    "        for k in range(10):\n",
    "            errors = sum([passwords_list[k][a]!=filtered_answers[k][a] for a in range(6)])\n",
    "            errors_matrix.append(errors)\n",
    "    print('Completed run #%d'%(i+1))"
   ]
  },
  {
   "cell_type": "code",
   "execution_count": 4,
   "metadata": {},
   "outputs": [
    {
     "data": {
      "text/plain": [
       "201"
      ]
     },
     "execution_count": 4,
     "metadata": {},
     "output_type": "execute_result"
    }
   ],
   "source": [
    "total_letters = 6000\n",
    "total_errors = sum(errors_matrix)\n",
    "total_errors"
   ]
  },
  {
   "cell_type": "code",
   "execution_count": 5,
   "metadata": {},
   "outputs": [
    {
     "data": {
      "text/plain": [
       "3.35"
      ]
     },
     "execution_count": 5,
     "metadata": {},
     "output_type": "execute_result"
    }
   ],
   "source": [
    "perc_error = total_errors/total_letters*100\n",
    "perc_error"
   ]
  },
  {
   "cell_type": "code",
   "execution_count": 6,
   "metadata": {},
   "outputs": [
    {
     "data": {
      "text/plain": [
       "96.65"
      ]
     },
     "execution_count": 6,
     "metadata": {},
     "output_type": "execute_result"
    }
   ],
   "source": [
    "perc_accuracy = 100-perc_error\n",
    "perc_accuracy"
   ]
  },
  {
   "cell_type": "code",
   "execution_count": 7,
   "metadata": {},
   "outputs": [
    {
     "data": {
      "text/plain": [
       "81.51004824408923"
      ]
     },
     "execution_count": 7,
     "metadata": {},
     "output_type": "execute_result"
    }
   ],
   "source": [
    "hypothetical_success_by_image = (perc_accuracy/100)**6*100\n",
    "hypothetical_success_by_image"
   ]
  },
  {
   "cell_type": "markdown",
   "metadata": {},
   "source": [
    "# Selected Examples"
   ]
  },
  {
   "cell_type": "code",
   "execution_count": 8,
   "metadata": {
    "collapsed": true
   },
   "outputs": [],
   "source": [
    "errors_matrix = []\n",
    "\n",
    "test_list = choices(test_list_full,k=10)\n",
    "passwords_list = []\n",
    "for test_path in test_list:\n",
    "    letters_list = get_letters_list2('grainy_samples/samples/%s'%test_path)\n",
    "    if(type(letters_list[0])==str):\n",
    "        break\n",
    "    attempted_password = ''\n",
    "    for letter_image in letters_list:\n",
    "        letter_image = normalize_image_size(letter_image,20,20)\n",
    "#         cv2.imshow('letter',letter_image)\n",
    "#         cv2.waitKey(0)\n",
    "#         cv2.destroyAllWindows()\n",
    "        letter_image = np.expand_dims(letter_image,axis=2)\n",
    "        letter_image = np.expand_dims(letter_image,axis=0)\n",
    "        prediction = model.predict(letter_image)\n",
    "        attempted_password += lb.inverse_transform(prediction)[0]\n",
    "    passwords_list.append(attempted_password)\n",
    "filtered_answers = [a.split('.')[0] for a in test_list]\n",
    "#     print(len(passwords_list))\n",
    "if(len(passwords_list)==len(filtered_answers)):\n",
    "    for k in range(10):\n",
    "        errors = sum([passwords_list[k][a]!=filtered_answers[k][a] for a in range(6)])\n",
    "        errors_matrix.append(errors)"
   ]
  },
  {
   "cell_type": "code",
   "execution_count": 9,
   "metadata": {},
   "outputs": [
    {
     "data": {
      "text/html": [
       "<div>\n",
       "<style>\n",
       "    .dataframe thead tr:only-child th {\n",
       "        text-align: right;\n",
       "    }\n",
       "\n",
       "    .dataframe thead th {\n",
       "        text-align: left;\n",
       "    }\n",
       "\n",
       "    .dataframe tbody tr th {\n",
       "        vertical-align: top;\n",
       "    }\n",
       "</style>\n",
       "<table border=\"1\" class=\"dataframe\">\n",
       "  <thead>\n",
       "    <tr style=\"text-align: right;\">\n",
       "      <th></th>\n",
       "      <th>Answers:</th>\n",
       "      <th>Attempted Password:</th>\n",
       "      <th>Number of errors</th>\n",
       "    </tr>\n",
       "  </thead>\n",
       "  <tbody>\n",
       "    <tr>\n",
       "      <th>0</th>\n",
       "      <td>gxozcc</td>\n",
       "      <td>gxozcc</td>\n",
       "      <td>0</td>\n",
       "    </tr>\n",
       "    <tr>\n",
       "      <th>1</th>\n",
       "      <td>nphxvn</td>\n",
       "      <td>nphxvn</td>\n",
       "      <td>0</td>\n",
       "    </tr>\n",
       "    <tr>\n",
       "      <th>2</th>\n",
       "      <td>keezhu</td>\n",
       "      <td>koezhu</td>\n",
       "      <td>1</td>\n",
       "    </tr>\n",
       "    <tr>\n",
       "      <th>3</th>\n",
       "      <td>euhybv</td>\n",
       "      <td>euhybv</td>\n",
       "      <td>0</td>\n",
       "    </tr>\n",
       "    <tr>\n",
       "      <th>4</th>\n",
       "      <td>akpvgo</td>\n",
       "      <td>akpvgo</td>\n",
       "      <td>0</td>\n",
       "    </tr>\n",
       "    <tr>\n",
       "      <th>5</th>\n",
       "      <td>ynuazu</td>\n",
       "      <td>youszu</td>\n",
       "      <td>2</td>\n",
       "    </tr>\n",
       "    <tr>\n",
       "      <th>6</th>\n",
       "      <td>sdvxbn</td>\n",
       "      <td>sdvxbn</td>\n",
       "      <td>0</td>\n",
       "    </tr>\n",
       "    <tr>\n",
       "      <th>7</th>\n",
       "      <td>kwyyge</td>\n",
       "      <td>kwyyge</td>\n",
       "      <td>0</td>\n",
       "    </tr>\n",
       "    <tr>\n",
       "      <th>8</th>\n",
       "      <td>besgnz</td>\n",
       "      <td>besgnz</td>\n",
       "      <td>0</td>\n",
       "    </tr>\n",
       "    <tr>\n",
       "      <th>9</th>\n",
       "      <td>nbpxzv</td>\n",
       "      <td>nbpxzv</td>\n",
       "      <td>0</td>\n",
       "    </tr>\n",
       "  </tbody>\n",
       "</table>\n",
       "</div>"
      ],
      "text/plain": [
       "  Answers: Attempted Password:  Number of errors\n",
       "0   gxozcc              gxozcc                 0\n",
       "1   nphxvn              nphxvn                 0\n",
       "2   keezhu              koezhu                 1\n",
       "3   euhybv              euhybv                 0\n",
       "4   akpvgo              akpvgo                 0\n",
       "5   ynuazu              youszu                 2\n",
       "6   sdvxbn              sdvxbn                 0\n",
       "7   kwyyge              kwyyge                 0\n",
       "8   besgnz              besgnz                 0\n",
       "9   nbpxzv              nbpxzv                 0"
      ]
     },
     "execution_count": 9,
     "metadata": {},
     "output_type": "execute_result"
    }
   ],
   "source": [
    "df = pd.DataFrame({\n",
    "    'Attempted Password:': passwords_list,\n",
    "    'Answers:': filtered_answers,\n",
    "    'Number of errors': errors_matrix\n",
    "})\n",
    "df"
   ]
  },
  {
   "cell_type": "code",
   "execution_count": null,
   "metadata": {
    "collapsed": true
   },
   "outputs": [],
   "source": []
  }
 ],
 "metadata": {
  "kernelspec": {
   "display_name": "Python 3",
   "language": "python",
   "name": "python3"
  },
  "language_info": {
   "codemirror_mode": {
    "name": "ipython",
    "version": 3
   },
   "file_extension": ".py",
   "mimetype": "text/x-python",
   "name": "python",
   "nbconvert_exporter": "python",
   "pygments_lexer": "ipython3",
   "version": "3.6.3"
  }
 },
 "nbformat": 4,
 "nbformat_minor": 2
}

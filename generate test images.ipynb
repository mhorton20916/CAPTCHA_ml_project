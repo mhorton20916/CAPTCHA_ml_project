{
 "cells": [
  {
   "cell_type": "markdown",
   "metadata": {},
   "source": [
    "# GENERATE TEST IMAGES"
   ]
  },
  {
   "cell_type": "code",
   "execution_count": 2,
   "metadata": {
    "collapsed": true
   },
   "outputs": [],
   "source": [
    "import hashlib\n",
    "import urllib"
   ]
  },
  {
   "cell_type": "code",
   "execution_count": 12,
   "metadata": {},
   "outputs": [],
   "source": [
    "secret = 'secret'\n",
    "random = 'randomabcdefghijk'\n",
    "alphabet = 'abcdefghknopqsuvwxyz'\n",
    "random_list = [random[0:-(i+1)] for i in range(10)]\n",
    "for rand in random_list:\n",
    "    key = secret+rand+':'+alphabet+':6'\n",
    "    hexout = hashlib.md5(key.encode('utf-8')).hexdigest()\n",
    "    password = ''\n",
    "    for i in range(6):\n",
    "        as_dec = int(hexout[2*i:2*(i+1)],16)\n",
    "        remainder = as_dec%20\n",
    "        password+=alphabet[remainder]\n",
    "    urllib.request.urlretrieve('http://image.captchas.net?client=demo&random=%s&alphabet=%s'%(rand,alphabet),'grainy_samples/_10samples/%s.jpg'%password)"
   ]
  },
  {
   "cell_type": "code",
   "execution_count": 6,
   "metadata": {},
   "outputs": [
    {
     "data": {
      "text/plain": [
       "('grainy_samples/_10samples/yqkhwr.jpg',\n",
       " <http.client.HTTPMessage at 0x1f9b3158550>)"
      ]
     },
     "execution_count": 6,
     "metadata": {},
     "output_type": "execute_result"
    }
   ],
   "source": [
    "rand = random_list[0]\n",
    "key = secret+rand+':'+alphabet+':6'\n",
    "hexout = hashlib.md5(key.encode('utf-8')).hexdigest()\n",
    "password = ''\n",
    "for i in range(6):\n",
    "    as_dec = int(hexout[2*i:2*(i+1)],16)\n",
    "    remainder = as_dec%25\n",
    "    password+=alphabet[remainder]\n",
    "urllib.request.urlretrieve('http://image.captchas.net?client=demo&random=%s&alphabet=%s'%(rand,alphabet),'grainy_samples/_10samples/%s.jpg'%password)"
   ]
  },
  {
   "cell_type": "code",
   "execution_count": 50,
   "metadata": {
    "collapsed": true
   },
   "outputs": [],
   "source": [
    "# Generate many images"
   ]
  },
  {
   "cell_type": "code",
   "execution_count": 51,
   "metadata": {},
   "outputs": [
    {
     "data": {
      "text/plain": [
       "'f5df5fca15f9538bcad55f5334a932d1'"
      ]
     },
     "execution_count": 51,
     "metadata": {},
     "output_type": "execute_result"
    }
   ],
   "source": [
    "hexout"
   ]
  },
  {
   "cell_type": "code",
   "execution_count": 52,
   "metadata": {},
   "outputs": [
    {
     "data": {
      "text/plain": [
       "'lpruvp'"
      ]
     },
     "execution_count": 52,
     "metadata": {},
     "output_type": "execute_result"
    }
   ],
   "source": [
    "password"
   ]
  },
  {
   "cell_type": "code",
   "execution_count": 45,
   "metadata": {},
   "outputs": [
    {
     "data": {
      "text/plain": [
       "55176"
      ]
     },
     "execution_count": 45,
     "metadata": {},
     "output_type": "execute_result"
    }
   ],
   "source": [
    "as_dec"
   ]
  },
  {
   "cell_type": "code",
   "execution_count": 46,
   "metadata": {},
   "outputs": [
    {
     "data": {
      "text/plain": [
       "'d788'"
      ]
     },
     "execution_count": 46,
     "metadata": {},
     "output_type": "execute_result"
    }
   ],
   "source": [
    "hexout[2*i:2*(i+2)]"
   ]
  },
  {
   "cell_type": "code",
   "execution_count": null,
   "metadata": {
    "collapsed": true
   },
   "outputs": [],
   "source": []
  }
 ],
 "metadata": {
  "kernelspec": {
   "display_name": "Python 3",
   "language": "python",
   "name": "python3"
  },
  "language_info": {
   "codemirror_mode": {
    "name": "ipython",
    "version": 3
   },
   "file_extension": ".py",
   "mimetype": "text/x-python",
   "name": "python",
   "nbconvert_exporter": "python",
   "pygments_lexer": "ipython3",
   "version": "3.6.3"
  }
 },
 "nbformat": 4,
 "nbformat_minor": 2
}

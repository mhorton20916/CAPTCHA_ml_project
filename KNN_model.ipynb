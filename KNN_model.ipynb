{
 "cells": [
  {
   "cell_type": "code",
   "execution_count": 38,
   "metadata": {},
   "outputs": [],
   "source": [
    "import os.path\n",
    "from imutils import paths, resize\n",
    "import cv2\n",
    "import numpy as np\n",
    "from sklearn.model_selection import train_test_split\n",
    "from sklearn.preprocessing import LabelBinarizer\n",
    "from keras.models import Sequential\n",
    "from keras.layers.convolutional import Conv2D, MaxPooling2D\n",
    "from keras.layers.core import Flatten, Dense\n",
    "\n",
    "import pickle"
   ]
  },
  {
   "cell_type": "code",
   "execution_count": 40,
   "metadata": {
    "collapsed": true
   },
   "outputs": [],
   "source": [
    "def get_letters_list2(im_name):\n",
    "    image = cv2.imread(im_name,0)\n",
    "    image = cv2.bitwise_not(image)\n",
    "    nb_components, output, stats, centroids = cv2.connectedComponentsWithStats(image, connectivity=4)\n",
    "    sizes = stats[1:, -1]\n",
    "    nb_components = nb_components - 1\n",
    "    min_size = 100\n",
    "    for i in range(0, nb_components):\n",
    "        if sizes[i] <= min_size:\n",
    "            image[output == i + 1] = 0\n",
    "    edge = 16\n",
    "    inv_cropped = image[edge:image.shape[0]-edge,edge:image.shape[1]-edge]\n",
    "    new_image, letters_only_contour, hierarchy = cv2.findContours(inv_cropped,cv2.RETR_EXTERNAL,cv2.CHAIN_APPROX_NONE)\n",
    "    letters_list = []\n",
    "    cropped = cv2.bitwise_not(inv_cropped)\n",
    "    # sorts contours by x position\n",
    "    starting_points = []\n",
    "    for cnt in letters_only_contour:\n",
    "        x,y,w,h = cv2.boundingRect(cnt)\n",
    "        starting_points.append(x)\n",
    "    sorted_letters_only_contour = [x for _,x in sorted(zip(starting_points,letters_only_contour))]\n",
    "    # append letters to list.  following code detects unually long letters, and assumes the contour found multiple letters\n",
    "    # splits such contours in half until it's a reasonable length\n",
    "    for cnt in sorted_letters_only_contour:\n",
    "        x,y,w,h = cv2.boundingRect(cnt)\n",
    "        temp_width = w\n",
    "        while temp_width > 34:\n",
    "            if temp_width < 60:\n",
    "                temp_width = np.floor_divide(temp_width,2)\n",
    "            elif temp_width < 91:\n",
    "                temp_width = np.floor_divide(temp_width,3)\n",
    "            else:\n",
    "                temp_width = np.floor_divide(temp_width,2)\n",
    "        for i in range(np.floor_divide(w,temp_width)):\n",
    "            letters_list.append(cropped[y:y+h,x+i*temp_width:x+(i+1)*temp_width])\n",
    "    while len(letters_list)<6:\n",
    "        letter_widths = []\n",
    "        for letter in letters_list:\n",
    "            letter_widths.append(letter.shape[1])\n",
    "        widest_letter_index = letter_widths.index(max(letter_widths))\n",
    "        widest_letter = letters_list[widest_letter_index]\n",
    "        letters_list.remove(widest_letter)\n",
    "        letters_list.insert(widest_letter_index,widest_letter[:,np.floor_divide(widest_letter.shape[1],2):])\n",
    "        letters_list.insert(widest_letter_index,widest_letter[:,0:np.floor_divide(widest_letter.shape[1],2)])\n",
    "    if len(letters_list)>6:\n",
    "        return ('An error has occurred.  Too many letters detected',letters_list)\n",
    "    else:\n",
    "        return letters_list"
   ]
  },
  {
   "cell_type": "code",
   "execution_count": 41,
   "metadata": {
    "collapsed": true
   },
   "outputs": [],
   "source": [
    "def normalize_image_size(image):\n",
    "    width = 20\n",
    "    height = 20\n",
    "    (h,w) = image.shape[:2]\n",
    "    if w > h:\n",
    "        image = resize(image, width=width)\n",
    "    else:\n",
    "        image = resize(image, height=height)\n",
    "    padW = int((width-image.shape[1])/2.0)\n",
    "    padH = int((height-image.shape[0])/2.0)\n",
    "    image = cv2.copyMakeBorder(image, padH, padH, padW, padW,\n",
    "        cv2.BORDER_REPLICATE)\n",
    "    image = cv2.resize(image, (width, height))\n",
    "    return image"
   ]
  },
  {
   "cell_type": "code",
   "execution_count": 12,
   "metadata": {},
   "outputs": [
    {
     "data": {
      "text/plain": [
       "<generator object list_files at 0x000002141F92BE08>"
      ]
     },
     "execution_count": 12,
     "metadata": {},
     "output_type": "execute_result"
    }
   ],
   "source": [
    "paths.list_images('grainy_samples/letters')"
   ]
  },
  {
   "cell_type": "code",
   "execution_count": 19,
   "metadata": {},
   "outputs": [
    {
     "name": "stdout",
     "output_type": "stream",
     "text": [
      "Added image #2000\n",
      "Added image #4000\n",
      "Added image #6000\n",
      "Added image #8000\n",
      "Added image #10000\n",
      "Added image #12000\n",
      "Added image #14000\n",
      "Added image #16000\n",
      "Added image #18000\n",
      "Added image #20000\n",
      "Added image #22000\n",
      "Added image #24000\n",
      "Added image #26000\n",
      "Added image #28000\n",
      "Added image #30000\n",
      "Added image #32000\n",
      "Added image #34000\n",
      "Added image #36000\n",
      "Added image #38000\n",
      "Added image #40000\n",
      "Added image #42000\n",
      "Added image #44000\n",
      "Added image #46000\n",
      "Added image #48000\n",
      "Added image #50000\n",
      "Added image #52000\n",
      "Added image #54000\n",
      "Added image #56000\n",
      "Added image #58000\n",
      "Added image #60000\n",
      "Added image #62000\n",
      "Added image #64000\n",
      "Added image #66000\n",
      "Added image #68000\n",
      "Added image #70000\n",
      "Added image #72000\n",
      "Added image #74000\n",
      "Added image #76000\n",
      "Added image #78000\n",
      "Added image #80000\n",
      "Added image #82000\n",
      "Added image #84000\n",
      "Added image #86000\n",
      "Added image #88000\n",
      "Added image #90000\n",
      "Added image #92000\n",
      "Added image #94000\n"
     ]
    }
   ],
   "source": [
    "data = []\n",
    "labels = []\n",
    "count = 0\n",
    "for letter_path in paths.list_images('grainy_samples/letters'):\n",
    "    image = cv2.imread(letter_path,0)\n",
    "    \n",
    "    # Resize image\n",
    "    image = normalize_image_size(image)\n",
    "\n",
    "    \n",
    "    image = np.expand_dims(image, axis = 2)\n",
    "    data.append(image)\n",
    "    labels.append(letter_path.split(os.path.sep)[-2])\n",
    "    count+=1\n",
    "    if count%2000==0:\n",
    "        print('Added image #%d'%count)\n"
   ]
  },
  {
   "cell_type": "code",
   "execution_count": 21,
   "metadata": {},
   "outputs": [],
   "source": [
    "data = np.array(data,dtype='float')/255.0\n",
    "labels = np.array(labels)"
   ]
  },
  {
   "cell_type": "code",
   "execution_count": 22,
   "metadata": {
    "collapsed": true
   },
   "outputs": [],
   "source": [
    "X_train, X_test, y_train, y_test = train_test_split(data,labels, test_size=0.25)"
   ]
  },
  {
   "cell_type": "code",
   "execution_count": 24,
   "metadata": {
    "collapsed": true
   },
   "outputs": [],
   "source": [
    "lb = LabelBinarizer().fit(y_train)\n",
    "y_train = lb.transform(y_train)\n",
    "y_test = lb.transform(y_test)"
   ]
  },
  {
   "cell_type": "code",
   "execution_count": 27,
   "metadata": {
    "collapsed": true
   },
   "outputs": [],
   "source": [
    "model = Sequential()"
   ]
  },
  {
   "cell_type": "code",
   "execution_count": 29,
   "metadata": {
    "collapsed": true
   },
   "outputs": [],
   "source": [
    "model.add(Conv2D(20, (5, 5), padding=\"same\", input_shape=(20, 20, 1), activation=\"relu\"))\n",
    "model.add(MaxPooling2D(pool_size=(2, 2), strides=(2, 2)))"
   ]
  },
  {
   "cell_type": "code",
   "execution_count": 30,
   "metadata": {
    "collapsed": true
   },
   "outputs": [],
   "source": [
    "model.add(Conv2D(50, (5, 5), padding=\"same\", activation=\"relu\"))\n",
    "model.add(MaxPooling2D(pool_size=(2, 2), strides=(2, 2)))"
   ]
  },
  {
   "cell_type": "code",
   "execution_count": 32,
   "metadata": {
    "collapsed": true
   },
   "outputs": [],
   "source": [
    "model.add(Flatten())\n",
    "model.add(Dense(500, activation=\"relu\"))"
   ]
  },
  {
   "cell_type": "code",
   "execution_count": 34,
   "metadata": {},
   "outputs": [],
   "source": [
    "model.add(Dense(19, activation=\"softmax\"))"
   ]
  },
  {
   "cell_type": "code",
   "execution_count": 35,
   "metadata": {
    "collapsed": true
   },
   "outputs": [],
   "source": [
    "model.compile(loss=\"categorical_crossentropy\", optimizer=\"adam\", metrics=[\"accuracy\"])"
   ]
  },
  {
   "cell_type": "code",
   "execution_count": 36,
   "metadata": {},
   "outputs": [
    {
     "name": "stdout",
     "output_type": "stream",
     "text": [
      "Train on 71238 samples, validate on 23746 samples\n",
      "Epoch 1/10\n",
      "71238/71238 [==============================] - 177s 2ms/step - loss: 0.1620 - acc: 0.9571 - val_loss: 0.0582 - val_acc: 0.9859\n",
      "Epoch 2/10\n",
      "71238/71238 [==============================] - 176s 2ms/step - loss: 0.0465 - acc: 0.9877 - val_loss: 0.0587 - val_acc: 0.9864\n",
      "Epoch 3/10\n",
      "71238/71238 [==============================] - 176s 2ms/step - loss: 0.0315 - acc: 0.9912 - val_loss: 0.0532 - val_acc: 0.9877\n",
      "Epoch 4/10\n",
      "71238/71238 [==============================] - 172s 2ms/step - loss: 0.0220 - acc: 0.9938 - val_loss: 0.0536 - val_acc: 0.9877\n",
      "Epoch 5/10\n",
      "71238/71238 [==============================] - 174s 2ms/step - loss: 0.0167 - acc: 0.9951 - val_loss: 0.0630 - val_acc: 0.9869\n",
      "Epoch 6/10\n",
      "71238/71238 [==============================] - 178s 2ms/step - loss: 0.0138 - acc: 0.9962 - val_loss: 0.0679 - val_acc: 0.9872\n",
      "Epoch 7/10\n",
      "71238/71238 [==============================] - 176s 2ms/step - loss: 0.0116 - acc: 0.9968 - val_loss: 0.0688 - val_acc: 0.9888\n",
      "Epoch 8/10\n",
      "71238/71238 [==============================] - 180s 3ms/step - loss: 0.0117 - acc: 0.9971 - val_loss: 0.0762 - val_acc: 0.9883\n",
      "Epoch 9/10\n",
      "71238/71238 [==============================] - 179s 3ms/step - loss: 0.0104 - acc: 0.9972 - val_loss: 0.0776 - val_acc: 0.9888\n",
      "Epoch 10/10\n",
      "71238/71238 [==============================] - 169s 2ms/step - loss: 0.0108 - acc: 0.9973 - val_loss: 0.0955 - val_acc: 0.9864\n"
     ]
    },
    {
     "data": {
      "text/plain": [
       "<keras.callbacks.History at 0x21435e85a90>"
      ]
     },
     "execution_count": 36,
     "metadata": {},
     "output_type": "execute_result"
    }
   ],
   "source": [
    "model.fit(X_train, y_train, validation_data=(X_test, y_test), batch_size=19, epochs=10, verbose=1)"
   ]
  },
  {
   "cell_type": "code",
   "execution_count": 37,
   "metadata": {
    "collapsed": true
   },
   "outputs": [],
   "source": [
    "model.save('10Epoch_model.h5')"
   ]
  },
  {
   "cell_type": "code",
   "execution_count": 39,
   "metadata": {
    "collapsed": true
   },
   "outputs": [],
   "source": [
    "with open('model_label_map.dat','wb') as f:\n",
    "    pickle.dump(lb,f)"
   ]
  },
  {
   "cell_type": "code",
   "execution_count": 42,
   "metadata": {
    "collapsed": true
   },
   "outputs": [],
   "source": [
    "test = get_letters_list2('test_CAPTCHA.png')\n",
    "attempted_password = ''\n",
    "for let in test:\n",
    "    let = normalize_image_size(let)\n",
    "    let = np.expand_dims(let,axis=2)\n",
    "    let = np.expand_dims(let,axis=0)\n",
    "    prediction = model.predict(let)\n",
    "    letter_output = lb.inverse_transform(prediction)[0]\n",
    "    attempted_password+=letter_output"
   ]
  },
  {
   "cell_type": "code",
   "execution_count": 43,
   "metadata": {},
   "outputs": [
    {
     "data": {
      "text/plain": [
       "'wvphnh'"
      ]
     },
     "execution_count": 43,
     "metadata": {},
     "output_type": "execute_result"
    }
   ],
   "source": [
    "attempted_password"
   ]
  },
  {
   "cell_type": "code",
   "execution_count": null,
   "metadata": {
    "collapsed": true
   },
   "outputs": [],
   "source": []
  }
 ],
 "metadata": {
  "kernelspec": {
   "display_name": "Python 3",
   "language": "python",
   "name": "python3"
  },
  "language_info": {
   "codemirror_mode": {
    "name": "ipython",
    "version": 3
   },
   "file_extension": ".py",
   "mimetype": "text/x-python",
   "name": "python",
   "nbconvert_exporter": "python",
   "pygments_lexer": "ipython3",
   "version": "3.6.3"
  }
 },
 "nbformat": 4,
 "nbformat_minor": 2
}
